{
 "cells": [
  {
   "cell_type": "markdown",
   "metadata": {},
   "source": [
    "# Themes and Patterns"
   ]
  },
  {
   "cell_type": "code",
   "execution_count": null,
   "metadata": {},
   "outputs": [],
   "source": [
    "import json\n",
    "import operator\n",
    "import polars as pl\n",
    "from functools import reduce\n",
    "from collections import defaultdict\n",
    "\n",
    "with open('../1-coding/diffs.json', 'r') as f:\n",
    "    diffs = json.load(f)\n",
    "\n",
    "diffs_df = pl.DataFrame(diffs).drop('files', 'existing_codes', 'notes')\n",
    "\n",
    "pattern_occurrences = []"
   ]
  },
  {
   "cell_type": "markdown",
   "metadata": {},
   "source": [
    "## Budget"
   ]
  },
  {
   "cell_type": "code",
   "execution_count": null,
   "metadata": {},
   "outputs": [],
   "source": [
    "budget_codes = [\n",
    "    'add_billing_alarm',\n",
    "    'add_budget',\n",
    "    'replace_billing_alarm_budget'\n",
    "]\n",
    "expr = reduce(\n",
    "    operator.or_,\n",
    "    (pl.col('codes').list.contains(c) for c in budget_codes)\n",
    ")\n",
    "\n",
    "for url, codes in diffs_df.filter(expr).iter_rows():\n",
    "    print(url, codes)\n",
    "    pattern_occurrences.append({\n",
    "        'pattern': 'Budget',\n",
    "        'url': url,\n",
    "        'codes': [c for c in codes if c in budget_codes],\n",
    "    })\n"
   ]
  },
  {
   "cell_type": "markdown",
   "metadata": {},
   "source": [
    "## Spot instances"
   ]
  },
  {
   "cell_type": "code",
   "execution_count": null,
   "metadata": {},
   "outputs": [],
   "source": [
    "spot_codes = [\n",
    "    'use_spot_instance',\n",
    "    'add_preemptible',\n",
    "    'use_spot_fleet',\n",
    "    'use_fargate_spot_capacity_provider',\n",
    "]\n",
    "expr = reduce(\n",
    "    operator.or_,\n",
    "    (pl.col('codes').list.contains(c) for c in spot_codes)\n",
    ")\n",
    "\n",
    "for url, codes in diffs_df.filter(expr).iter_rows():\n",
    "    print(url, codes)\n",
    "    pattern_occurrences.append({\n",
    "        'pattern': 'Spot instances',\n",
    "        'url': url,\n",
    "        'codes': [c for c in codes if c in spot_codes],\n",
    "    })"
   ]
  },
  {
   "cell_type": "markdown",
   "metadata": {},
   "source": [
    "## Lifecycle rules"
   ]
  },
  {
   "cell_type": "code",
   "execution_count": null,
   "metadata": {},
   "outputs": [],
   "source": [
    "for url, codes in diffs_df.filter(pl.col('codes').list.contains('add_lifecycle_rule')).iter_rows():\n",
    "    print(url, codes)\n",
    "    pattern_occurrences.append({\n",
    "        'pattern': 'Object storage lifecycle rules',\n",
    "        'url': url,\n",
    "        'codes': ['add_lifecycle_rule'],\n",
    "    })"
   ]
  },
  {
   "cell_type": "markdown",
   "metadata": {},
   "source": [
    "## Expensive instance"
   ]
  },
  {
   "cell_type": "code",
   "execution_count": null,
   "metadata": {},
   "outputs": [],
   "source": [
    "expr = pl.col('codes').list.contains('cheaper_instance') & pl.col('codes').list.contains('new_gen').not_()\n",
    "\n",
    "for url, codes in diffs_df.filter(expr).iter_rows():\n",
    "    print(url, codes)\n",
    "    pattern_occurrences.append({\n",
    "        'pattern': 'Expensive instance',\n",
    "        'url': url,\n",
    "        'codes': ['cheaper_instance'],\n",
    "    })"
   ]
  },
  {
   "cell_type": "markdown",
   "metadata": {},
   "source": [
    "## Old generation"
   ]
  },
  {
   "cell_type": "code",
   "execution_count": null,
   "metadata": {},
   "outputs": [],
   "source": [
    "expr = pl.col('codes').list.contains('new_gen')\n",
    "\n",
    "for url, codes in diffs_df.filter(expr).iter_rows():\n",
    "    print(url, codes)\n",
    "    pattern_occurrences.append({\n",
    "        'pattern': 'Old generation',\n",
    "        'url': url,\n",
    "        'codes': ['new_gen'],\n",
    "    })"
   ]
  },
  {
   "cell_type": "markdown",
   "metadata": {},
   "source": [
    "## Expensive storage type"
   ]
  },
  {
   "cell_type": "code",
   "execution_count": null,
   "metadata": {},
   "outputs": [],
   "source": [
    "expr = (\n",
    "    pl.col('codes').list.contains('cheaper_volume') |\n",
    "    pl.col('codes').list.contains('cheaper_disk_type')\n",
    ") & pl.col('codes').list.contains('new_gen').not_()\n",
    "\n",
    "for url, codes in diffs_df.filter(expr).iter_rows():\n",
    "    print(url, codes)\n",
    "    pattern_occurrences.append({\n",
    "        'pattern': 'Expensive storage type',\n",
    "        'url': url,\n",
    "        'codes': [c for c in codes if c == 'cheaper_volume' or c == 'cheaper_disk_type'],\n",
    "    })"
   ]
  },
  {
   "cell_type": "markdown",
   "metadata": {},
   "source": [
    "## Expensive network resource"
   ]
  },
  {
   "cell_type": "code",
   "execution_count": null,
   "metadata": {},
   "outputs": [],
   "source": [
    "network_codes = [\n",
    "    'remove_nat_gateway',\n",
    "    'reduce_nat_gateways',\n",
    "    'use_ec2_as_nat_gateway',\n",
    "    'remove_nat',\n",
    "    'remove_eip',\n",
    "    'reduce_eip',\n",
    "    'remove_private_subnet',\n",
    "    'reduce_subnets',\n",
    "    'reduce_vpc_endpoint_subnets',\n",
    "    'remove_loadbalancer',\n",
    "    'remove_alb',\n",
    "    'use_alb',\n",
    "    'reduce_nlb',\n",
    "    'remove_route_table',\n",
    "    'remove_route',\n",
    "    'remove_vpn',\n",
    "    'remove_firewall',\n",
    "    'remove_transit_gateway',\n",
    "    'associate_public_ip',\n",
    "    'remove_waf',\n",
    "    'add_vpc',\n",
    "    'add_nat_gateway',\n",
    "    'add_eip',\n",
    "    'add_route',\n",
    "]\n",
    "expr = reduce(\n",
    "    operator.or_,\n",
    "    (pl.col('codes').list.contains(c) for c in network_codes)\n",
    ")\n",
    "\n",
    "for url, codes in diffs_df.filter(expr).iter_rows():\n",
    "    print(url, codes)\n",
    "    pattern_occurrences.append({\n",
    "        'pattern': 'Expensive network resource',\n",
    "        'url': url,\n",
    "        'codes': [c for c in codes if c in network_codes],\n",
    "    })"
   ]
  },
  {
   "cell_type": "markdown",
   "metadata": {},
   "source": [
    "## Overprovisioned resources"
   ]
  },
  {
   "cell_type": "code",
   "execution_count": null,
   "metadata": {},
   "outputs": [],
   "source": [
    "overprovision_codes = [\n",
    "    'smaller_disk',\n",
    "    'less_memory',\n",
    "    'less_cpu_cores',\n",
    "    'less_cpu',\n",
    "    'lambda_less_memory',\n",
    "    'increase_volume_size',\n",
    "]\n",
    "expr = reduce(\n",
    "    operator.or_,\n",
    "    (pl.col('codes').list.contains(c) for c in overprovision_codes)\n",
    ")\n",
    "\n",
    "for url, codes in diffs_df.filter(expr).iter_rows():\n",
    "    print(url, codes)\n",
    "    pattern_occurrences.append({\n",
    "        'pattern': 'Overprovisioned resources',\n",
    "        'url': url,\n",
    "        'codes': [c for c in codes if c in overprovision_codes],\n",
    "    })"
   ]
  },
  {
   "cell_type": "markdown",
   "metadata": {},
   "source": [
    "## AWS - Expensive DynamoDB"
   ]
  },
  {
   "cell_type": "code",
   "execution_count": null,
   "metadata": {},
   "outputs": [],
   "source": [
    "dynamo_codes = [\n",
    "    'dynamo_on_demand',\n",
    "    'dynamo_reduce_rw_capacity',\n",
    "    'remove_dynamo_global_secondary_indices',\n",
    "]\n",
    "expr = reduce(\n",
    "    operator.or_,\n",
    "    (pl.col('codes').list.contains(c) for c in dynamo_codes)\n",
    ")\n",
    "\n",
    "for url, codes in diffs_df.filter(expr).iter_rows():\n",
    "    print(url, codes)\n",
    "    pattern_occurrences.append({\n",
    "        'pattern': 'AWS - Expensive DynamoDB',\n",
    "        'url': url,\n",
    "        'codes': [c for c in codes if c in dynamo_codes],\n",
    "    })"
   ]
  },
  {
   "cell_type": "markdown",
   "metadata": {},
   "source": [
    "## Expensive monitoring"
   ]
  },
  {
   "cell_type": "code",
   "execution_count": null,
   "metadata": {},
   "outputs": [],
   "source": [
    "monitoring_codes = [\n",
    "    'remove_status_check',\n",
    "    'remove_cloudwatch_metrics',\n",
    "    'remove_cloudwatch_logs',\n",
    "    'remove_log_analytics',\n",
    "    'remove_container_insights',\n",
    "    'reduce_cloudwatch_retention',\n",
    "    'remove_audit_logs',\n",
    "    'remove_cloudfront_logs',\n",
    "    'remove_fluentbit_annotations',\n",
    "    'remove_fluentbit_labels',\n",
    "    'reduce_argo_log_level',\n",
    "    'remove_cloudwatch_dashboard',\n",
    "    'fastly_compute_compress_s3_logs',\n",
    "    'remove_prometheus_kube_api_scraping',\n",
    "    'remove_eks_cloudwatch_agent',\n",
    "]\n",
    "expr = reduce(\n",
    "    operator.or_,\n",
    "    (pl.col('codes').list.contains(c) for c in monitoring_codes)\n",
    ")\n",
    "\n",
    "for url, codes in diffs_df.filter(expr).iter_rows():\n",
    "    print(url, codes)\n",
    "    pattern_occurrences.append({\n",
    "        'pattern': 'Expensive monitoring',\n",
    "        'url': url,\n",
    "        'codes': [c for c in codes if c in monitoring_codes],\n",
    "    })"
   ]
  },
  {
   "cell_type": "markdown",
   "metadata": {},
   "source": [
    "# Export"
   ]
  },
  {
   "cell_type": "code",
   "execution_count": null,
   "metadata": {},
   "outputs": [],
   "source": [
    "df = pl.DataFrame(pattern_occurrences).with_columns(technology=pl.lit(['terraform']))\n",
    "\n",
    "df.select('pattern', 'url').write_csv('pattern_occurrences.csv', include_header=True)\n",
    "\n",
    "df.write_json('theme_occurrences.json', row_oriented=True)\n",
    "\n",
    "df.explode('codes') \\\n",
    "    .group_by('pattern') \\\n",
    "    .agg('url', 'codes') \\\n",
    "    .with_columns(\n",
    "        url=pl.col('url').list.unique(),\n",
    "        codes=pl.col('codes').list.unique()\n",
    "    ) \\\n",
    "    .select(\n",
    "        pattern='pattern',\n",
    "        occurrences=pl.struct(terraform='url'),\n",
    "        codes='codes',\n",
    "    ) \\\n",
    "    .write_json('themes.json', row_oriented=True)"
   ]
  }
 ],
 "metadata": {
  "kernelspec": {
   "display_name": "venv",
   "language": "python",
   "name": "python3"
  },
  "language_info": {
   "codemirror_mode": {
    "name": "ipython",
    "version": 3
   },
   "file_extension": ".py",
   "mimetype": "text/x-python",
   "name": "python",
   "nbconvert_exporter": "python",
   "pygments_lexer": "ipython3",
   "version": "3.12.4"
  }
 },
 "nbformat": 4,
 "nbformat_minor": 2
}
