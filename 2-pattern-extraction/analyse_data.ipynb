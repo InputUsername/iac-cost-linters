{
 "cells": [
  {
   "cell_type": "markdown",
   "metadata": {},
   "source": [
    "# Analysis"
   ]
  },
  {
   "cell_type": "code",
   "execution_count": null,
   "metadata": {},
   "outputs": [],
   "source": [
    "import json\n",
    "\n",
    "with open('../1-coding/dataset.json', 'r') as o:\n",
    "    original_dataset = json.load(o)\n",
    "    original_dataset = [item for item in original_dataset if item['type'] == 'commit']\n",
    "\n",
    "with open('../1-coding/diffs.json', 'r') as f:\n",
    "    diffs = json.load(f)\n",
    "\n",
    "with open('../1-coding/codes.json', 'r') as cf:\n",
    "    codes = json.load(cf)"
   ]
  },
  {
   "cell_type": "markdown",
   "metadata": {},
   "source": [
    "## Dataset"
   ]
  },
  {
   "cell_type": "code",
   "execution_count": null,
   "metadata": {},
   "outputs": [],
   "source": [
    "def repo_name(item: dict[str]) -> str:\n",
    "    _, _, _, owner, repo, *_ = item['url'].split('/')\n",
    "    return f'{owner}/{repo}'\n",
    "\n",
    "TOTAL = len(original_dataset)\n",
    "TOTAL_REPOS = len(set(repo_name(item) for item in original_dataset))\n",
    "\n",
    "retrieved = len(diffs)\n",
    "retrieved_repos = len(set(repo_name(d) for d in diffs))\n",
    "print('retrieved commits:', f'{retrieved}/{TOTAL}', f'({retrieved/TOTAL*100:.2f}%)')\n",
    "print('retrieved repos:', f'{retrieved_repos}/{TOTAL_REPOS}', f'({retrieved_repos/TOTAL_REPOS*100:.2f}%)')\n",
    "\n",
    "with_saving = len([d for d in diffs if 'saving' in d['existing_codes']])\n",
    "print('\\noriginally coded with `saving`:', f'{with_saving}/{retrieved}', f'({with_saving/retrieved*100:.2f}%)')\n",
    "\n",
    "n_processed = sum(len(d['codes']) != 0 for d in diffs)\n",
    "n_processed_with_saving = sum(len(d['codes']) != 0 and 'saving' in d['existing_codes'] for d in diffs)\n",
    "print('\\nprocessed commits:', f'{n_processed}/{retrieved}', f'({n_processed/retrieved*100:.2f}%)')\n",
    "print('processed commits originally coded with `saving`:', f'{n_processed_with_saving}/{with_saving}', f'({n_processed_with_saving/with_saving*100:.2f}%)')\n",
    "\n",
    "no_cost_change = sum('no_cost_change' in d['codes'] for d in diffs)\n",
    "print('\\ncommits coded with `no_cost_change`:', f'{no_cost_change}/{n_processed}', f'({no_cost_change/retrieved*100:.2f}%)')\n",
    "\n",
    "avg_files = sum(len(d['files']) for d in diffs) / len(diffs)\n",
    "print('\\nfiles affected (avg):', f'{avg_files:.2f}')"
   ]
  },
  {
   "cell_type": "markdown",
   "metadata": {},
   "source": [
    "## Codes"
   ]
  },
  {
   "cell_type": "code",
   "execution_count": null,
   "metadata": {},
   "outputs": [],
   "source": [
    "import polars as pl\n",
    "\n",
    "codes_counts = [\n",
    "    c | { 'count': sum((c['name'] in d['codes']) for d in diffs) }\n",
    "    for c in codes\n",
    "]\n",
    "\n",
    "codes_df = pl.DataFrame(codes_counts) \\\n",
    "            .with_columns(percentage=pl.col('count') / n_processed * 100) \\\n",
    "            .sort(by=pl.col('count'), descending=True)\n",
    "\n",
    "print(codes_df)\n",
    "\n",
    "codes_df.drop(\"percentage\").write_csv(\"codes.csv\")"
   ]
  },
  {
   "cell_type": "markdown",
   "metadata": {},
   "source": [
    "### Cloud-specific Codes"
   ]
  },
  {
   "cell_type": "code",
   "execution_count": null,
   "metadata": {},
   "outputs": [],
   "source": [
    "clouds = {'digitalocean', 'aws', 'gcp', 'azure', 'alicloud', 'scaleway', 'hcloud', 'ibm', 'oracle', 'ovh', 'fastly'}\n",
    "\n",
    "cloud_codes = codes_df.filter(pl.col('name').is_in(clouds)).drop('description')\n",
    "\n",
    "with pl.Config(tbl_rows=100):\n",
    "    print(cloud_codes)\n",
    "\n",
    "cloud_codes.write_csv('clouds.csv', include_header=True)\n",
    "\n",
    "# for name, count, pct in cloud_codes.iter_rows():\n",
    "#     print(f'{name} & {count} & {pct:.1f}\\\\%', '\\\\\\\\\\n\\\\midrule')\n",
    "\n",
    "non_cloud_codes = codes_df.filter(pl.col('name').is_in(clouds).not_()).drop('description')\n",
    "\n",
    "print(non_cloud_codes)\n",
    "\n",
    "# There is a difference between number of commits and number of cloud occurrences\n",
    "# explained by cloud migrations, multi-cloud deployments and commits that do not reference cloud providers\n",
    "print(cloud_codes.select('count').sum())\n",
    "for d in diffs:\n",
    "    n_clouds = len(set(d['codes']) & clouds)\n",
    "    if n_clouds != 1:\n",
    "        print(d['url'], d['codes'])"
   ]
  },
  {
   "cell_type": "markdown",
   "metadata": {},
   "source": [
    "#### Plot top N non-cloud codes and cloud codes"
   ]
  },
  {
   "cell_type": "code",
   "execution_count": null,
   "metadata": {},
   "outputs": [],
   "source": [
    "import matplotlib.pyplot as plt\n",
    "\n",
    "TOP_N = 10\n",
    "codes_hist_names = non_cloud_codes.get_column('name').to_list()[1:TOP_N+1]\n",
    "codes_hist_counts = non_cloud_codes.get_column('count').to_list()[1:TOP_N+1]\n",
    "\n",
    "plt.style.use('ggplot')\n",
    "\n",
    "plt.figure(figsize=(10, 5))\n",
    "bars = plt.bar(codes_hist_names, codes_hist_counts)\n",
    "\n",
    "plt.bar_label(bars, padding=3)\n",
    "\n",
    "plt.grid(True, which='both', linestyle='--', linewidth=0.5)\n",
    "\n",
    "plt.xlabel('Code')\n",
    "plt.ylabel('Count')\n",
    "plt.ylim(0, 100)\n",
    "plt.xlim(-0.75, TOP_N-0.25)\n",
    "plt.xticks(rotation=30, ha='right')"
   ]
  },
  {
   "cell_type": "code",
   "execution_count": null,
   "metadata": {},
   "outputs": [],
   "source": [
    "cloud_names = cloud_codes.get_column('name').to_list()\n",
    "cloud_counts = cloud_codes.get_column('count').to_list()\n",
    "\n",
    "plt.style.use('ggplot')\n",
    "\n",
    "plt.figure(figsize=(12, 6))\n",
    "bars = plt.bar(cloud_names, cloud_counts)\n",
    "\n",
    "plt.bar_label(bars, padding=3)\n",
    "\n",
    "plt.grid(True, which='both', linestyle='--', linewidth=0.5)\n",
    "\n",
    "plt.xlabel('Cloud provider code')\n",
    "plt.ylabel('Count')\n",
    "plt.ylim(0, 450)"
   ]
  },
  {
   "cell_type": "markdown",
   "metadata": {},
   "source": [
    "### Uniqueness\n",
    "\n",
    "Determine how many unique owners the code occurs for, to see if there is actually a pattern across developers/organizations."
   ]
  },
  {
   "cell_type": "code",
   "execution_count": null,
   "metadata": {},
   "outputs": [],
   "source": [
    "def repo_owner(diff: dict[str, str]) -> str:\n",
    "    _, _, _, owner, *_ = diff['url'].split('/')\n",
    "    return owner\n",
    "\n",
    "n_owners = len(set(repo_owner(d) for d in diffs))\n",
    "print('number of unique owners:', n_owners)\n",
    "\n",
    "owners = [\n",
    "    {\n",
    "        'name': c['name'],\n",
    "        'owners': list(set(repo_owner(d) for d in diffs if c['name'] in d['codes']))\n",
    "    }\n",
    "    for c in codes\n",
    "]\n",
    "owners_df = pl.DataFrame(owners) \\\n",
    "                .with_columns(n_owners=pl.col('owners').list.len()) \\\n",
    "                .sort(by=pl.col('n_owners'), descending=True)\n",
    "\n",
    "filtered = owners_df.filter(pl.col('name').is_in(clouds).not_()).filter(pl.col('n_owners') >= 2)\n",
    "\n",
    "print(filtered)\n",
    "\n",
    "#filtered.drop('owners').write_csv('unique_owners.csv')"
   ]
  },
  {
   "cell_type": "markdown",
   "metadata": {},
   "source": [
    "### Undefined codes\n",
    "\n",
    "List codes which are attached to commits but not defined in `codes.json`."
   ]
  },
  {
   "cell_type": "code",
   "execution_count": null,
   "metadata": {},
   "outputs": [],
   "source": [
    "listed_codes = set(c['name'] for c in codes)\n",
    "for d in diffs:\n",
    "    for c in d['codes']:\n",
    "        if c not in listed_codes:\n",
    "            print(f'{c} is not listed')"
   ]
  }
 ],
 "metadata": {
  "kernelspec": {
   "display_name": "venv",
   "language": "python",
   "name": "python3"
  },
  "language_info": {
   "codemirror_mode": {
    "name": "ipython",
    "version": 3
   },
   "file_extension": ".py",
   "mimetype": "text/x-python",
   "name": "python",
   "nbconvert_exporter": "python",
   "pygments_lexer": "ipython3",
   "version": "3.12.4"
  }
 },
 "nbformat": 4,
 "nbformat_minor": 2
}
