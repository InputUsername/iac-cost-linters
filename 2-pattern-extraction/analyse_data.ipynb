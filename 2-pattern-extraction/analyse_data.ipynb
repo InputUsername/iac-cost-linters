{
 "cells": [
  {
   "cell_type": "markdown",
   "metadata": {},
   "source": [
    "# Analysis"
   ]
  },
  {
   "cell_type": "code",
   "execution_count": 1,
   "metadata": {},
   "outputs": [],
   "source": [
    "import json\n",
    "\n",
    "with open('../1-coding/dataset.json', 'r') as o:\n",
    "    original_dataset = json.load(o)\n",
    "    original_dataset = [item for item in original_dataset if item['type'] == 'commit']\n",
    "\n",
    "with open('../1-coding/diffs.json', 'r') as f:\n",
    "    diffs = json.load(f)\n",
    "\n",
    "with open('../1-coding/codes.json', 'r') as cf:\n",
    "    codes = json.load(cf)"
   ]
  },
  {
   "cell_type": "markdown",
   "metadata": {},
   "source": [
    "## Dataset"
   ]
  },
  {
   "cell_type": "code",
   "execution_count": 2,
   "metadata": {},
   "outputs": [
    {
     "name": "stdout",
     "output_type": "stream",
     "text": [
      "retrieved commits: 567/606 (93.56%)\n",
      "retrieved repos: 414/445 (93.03%)\n",
      "\n",
      "originally coded with `saving`: 380/567 (67.02%)\n",
      "\n",
      "processed commits: 567/567 (100.00%)\n",
      "processed commits originally coded with `saving`: 380/380 (100.00%)\n",
      "\n",
      "commits coded with `no_cost_change`: 199/567 (35.10%)\n",
      "\n",
      "files affected (avg): 4.37\n"
     ]
    }
   ],
   "source": [
    "def repo_name(item: dict[str]) -> str:\n",
    "    _, _, _, owner, repo, *_ = item['url'].split('/')\n",
    "    return f'{owner}/{repo}'\n",
    "\n",
    "TOTAL = len(original_dataset)\n",
    "TOTAL_REPOS = len(set(repo_name(item) for item in original_dataset))\n",
    "\n",
    "retrieved = len(diffs)\n",
    "retrieved_repos = len(set(repo_name(d) for d in diffs))\n",
    "print('retrieved commits:', f'{retrieved}/{TOTAL}', f'({retrieved/TOTAL*100:.2f}%)')\n",
    "print('retrieved repos:', f'{retrieved_repos}/{TOTAL_REPOS}', f'({retrieved_repos/TOTAL_REPOS*100:.2f}%)')\n",
    "\n",
    "with_saving = len([d for d in diffs if 'saving' in d['existing_codes']])\n",
    "print('\\noriginally coded with `saving`:', f'{with_saving}/{retrieved}', f'({with_saving/retrieved*100:.2f}%)')\n",
    "\n",
    "n_processed = sum(len(d['codes']) != 0 for d in diffs)\n",
    "n_processed_with_saving = sum(len(d['codes']) != 0 and 'saving' in d['existing_codes'] for d in diffs)\n",
    "print('\\nprocessed commits:', f'{n_processed}/{retrieved}', f'({n_processed/retrieved*100:.2f}%)')\n",
    "print('processed commits originally coded with `saving`:', f'{n_processed_with_saving}/{with_saving}', f'({n_processed_with_saving/with_saving*100:.2f}%)')\n",
    "\n",
    "no_cost_change = sum('no_cost_change' in d['codes'] for d in diffs)\n",
    "print('\\ncommits coded with `no_cost_change`:', f'{no_cost_change}/{n_processed}', f'({no_cost_change/retrieved*100:.2f}%)')\n",
    "\n",
    "avg_files = sum(len(d['files']) for d in diffs) / len(diffs)\n",
    "print('\\nfiles affected (avg):', f'{avg_files:.2f}')"
   ]
  },
  {
   "cell_type": "markdown",
   "metadata": {},
   "source": [
    "## Codes"
   ]
  },
  {
   "cell_type": "code",
   "execution_count": 3,
   "metadata": {},
   "outputs": [
    {
     "name": "stdout",
     "output_type": "stream",
     "text": [
      "shape: (161, 4)\n",
      "┌─────────────────────────────────┬─────────────────────────────────┬───────┬────────────┐\n",
      "│ name                            ┆ description                     ┆ count ┆ percentage │\n",
      "│ ---                             ┆ ---                             ┆ ---   ┆ ---        │\n",
      "│ str                             ┆ str                             ┆ i64   ┆ f64        │\n",
      "╞═════════════════════════════════╪═════════════════════════════════╪═══════╪════════════╡\n",
      "│ aws                             ┆ Specific to Amazon Web Service… ┆ 413   ┆ 72.839506  │\n",
      "│ no_cost_change                  ┆ The commit contents do not ref… ┆ 199   ┆ 35.097002  │\n",
      "│ cheaper_instance                ┆ Use a cheaper compute instance  ┆ 84    ┆ 14.814815  │\n",
      "│ gcp                             ┆ Specific to Google Cloud Platf… ┆ 71    ┆ 12.522046  │\n",
      "│ azure                           ┆ Specific to Azure               ┆ 58    ┆ 10.229277  │\n",
      "│ …                               ┆ …                               ┆ …     ┆ …          │\n",
      "│ replace_jenkins_sync_with_buck… ┆ Replace Jenkins sync with stan… ┆ 1     ┆ 0.176367   │\n",
      "│ remove_provider                 ┆ Fully move away from a cloud p… ┆ 1     ┆ 0.176367   │\n",
      "│ remove_scaleway_rdb             ┆ Stop using Scaleway relational… ┆ 1     ┆ 0.176367   │\n",
      "│ remove_eks_cloudwatch_agent     ┆ Stop using EKS CloudWatch agen… ┆ 1     ┆ 0.176367   │\n",
      "│ remove_service_discovery        ┆ Remove service discovery resou… ┆ 1     ┆ 0.176367   │\n",
      "└─────────────────────────────────┴─────────────────────────────────┴───────┴────────────┘\n"
     ]
    }
   ],
   "source": [
    "import polars as pl\n",
    "\n",
    "codes_counts = [\n",
    "    c | { 'count': sum((c['name'] in d['codes']) for d in diffs) }\n",
    "    for c in codes\n",
    "]\n",
    "\n",
    "codes_df = pl.DataFrame(codes_counts) \\\n",
    "            .with_columns(percentage=pl.col('count') / n_processed * 100) \\\n",
    "            .sort(by=pl.col('count'), descending=True)\n",
    "\n",
    "print(codes_df)\n",
    "\n",
    "codes_df.drop(\"percentage\").write_csv(\"codes.csv\")"
   ]
  },
  {
   "cell_type": "markdown",
   "metadata": {},
   "source": [
    "### Cloud-specific Codes"
   ]
  },
  {
   "cell_type": "code",
   "execution_count": 4,
   "metadata": {},
   "outputs": [
    {
     "name": "stdout",
     "output_type": "stream",
     "text": [
      "shape: (11, 3)\n",
      "┌──────────────┬───────┬────────────┐\n",
      "│ name         ┆ count ┆ percentage │\n",
      "│ ---          ┆ ---   ┆ ---        │\n",
      "│ str          ┆ i64   ┆ f64        │\n",
      "╞══════════════╪═══════╪════════════╡\n",
      "│ aws          ┆ 413   ┆ 72.839506  │\n",
      "│ gcp          ┆ 71    ┆ 12.522046  │\n",
      "│ azure        ┆ 58    ┆ 10.229277  │\n",
      "│ digitalocean ┆ 13    ┆ 2.292769   │\n",
      "│ scaleway     ┆ 4     ┆ 0.705467   │\n",
      "│ hcloud       ┆ 2     ┆ 0.352734   │\n",
      "│ ibm          ┆ 2     ┆ 0.352734   │\n",
      "│ oracle       ┆ 2     ┆ 0.352734   │\n",
      "│ alicloud     ┆ 1     ┆ 0.176367   │\n",
      "│ ovh          ┆ 1     ┆ 0.176367   │\n",
      "│ fastly       ┆ 1     ┆ 0.176367   │\n",
      "└──────────────┴───────┴────────────┘\n",
      "shape: (150, 3)\n",
      "┌─────────────────────────────────┬───────┬────────────┐\n",
      "│ name                            ┆ count ┆ percentage │\n",
      "│ ---                             ┆ ---   ┆ ---        │\n",
      "│ str                             ┆ i64   ┆ f64        │\n",
      "╞═════════════════════════════════╪═══════╪════════════╡\n",
      "│ no_cost_change                  ┆ 199   ┆ 35.097002  │\n",
      "│ cheaper_instance                ┆ 84    ┆ 14.814815  │\n",
      "│ new_gen                         ┆ 39    ┆ 6.878307   │\n",
      "│ remove_nat_gateway              ┆ 23    ┆ 4.056437   │\n",
      "│ dynamo_on_demand                ┆ 22    ┆ 3.880071   │\n",
      "│ …                               ┆ …     ┆ …          │\n",
      "│ replace_jenkins_sync_with_buck… ┆ 1     ┆ 0.176367   │\n",
      "│ remove_provider                 ┆ 1     ┆ 0.176367   │\n",
      "│ remove_scaleway_rdb             ┆ 1     ┆ 0.176367   │\n",
      "│ remove_eks_cloudwatch_agent     ┆ 1     ┆ 0.176367   │\n",
      "│ remove_service_discovery        ┆ 1     ┆ 0.176367   │\n",
      "└─────────────────────────────────┴───────┴────────────┘\n",
      "shape: (1, 1)\n",
      "┌───────┐\n",
      "│ count │\n",
      "│ ---   │\n",
      "│ i64   │\n",
      "╞═══════╡\n",
      "│ 568   │\n",
      "└───────┘\n",
      "https://github.com/geraldwuhoo/homelab-iac/commit/3228ee1c5bfdf89e57e898659b086364122d58c1 ['no_cost_change']\n",
      "https://github.com/AwakeningSV/live-infrastructure/commit/43bba3db97631d8730160950395fde42793adbc2 ['digitalocean', 'azure', 'cheaper_provider']\n",
      "https://github.com/jjffggpp/jjffggpp/commit/0e69a9978eae9e3432de8f16c2ca1b38033c23a7 ['aws', 'azure', 'gcp', 'no_cost_change']\n",
      "https://github.com/jjffggpp/jjffggpp/commit/948727c5b1e87b970a7a9dee4cd67bb84d19abf8 ['aws', 'azure', 'gcp', 'no_cost_change']\n",
      "https://github.com/mhemeryck/iac/commit/9ec3047d95969e8d2b729e6545672c3084ea846d ['digitalocean', 'hcloud', 'cheaper_provider']\n",
      "https://github.com/kabisa/terraform-datadog-costs/commit/adaf03ac0d5a324880e9e6aa10d54b9de6b4e635 ['no_cost_change']\n",
      "https://github.com/e91e63/terraform-tekton-pipelines/commit/432683fcf7921a699f1557e89818b3bef5dba61a ['no_cost_change']\n",
      "https://github.com/alphagov/govuk-infrastructure/commit/ee2b2286a02d49c7e9992d0a39ce950583e16bb7 ['no_cost_change']\n",
      "https://github.com/rremer/terraform-minecraft/commit/bac050d515cd6991e17cd1a34197d84982f5931d ['aws', 'gcp', 'cheaper_provider']\n",
      "https://github.com/VJftw/infrastructure/commit/5c28d23cfa0c3488d5546ffdc1783c745a1e9239 ['aws', 'gcp', 'remove_gcp_kms', 'remove_aws_kms']\n",
      "https://github.com/alphagov/govuk-infrastructure/commit/3386d7637c06f84cc3cc252f96d43e511cea428e ['reduce_argo_log_level']\n",
      "https://github.com/alphagov/govuk-infrastructure/commit/6017d0be84adac6b90b46f3d0bc2376a7e9b8e85 ['remove_prometheus_kube_api_scraping']\n",
      "https://github.com/cloudposse/terraform-spacelift-cloud-infrastructure-automation/commit/f1ad51c1ee8b96d7a60c23dbe49ccd5a3439a3dc ['add_spacelift_infracost']\n"
     ]
    }
   ],
   "source": [
    "clouds = {'digitalocean', 'aws', 'gcp', 'azure', 'alicloud', 'scaleway', 'hcloud', 'ibm', 'oracle', 'ovh', 'fastly'}\n",
    "\n",
    "cloud_codes = codes_df.filter(pl.col('name').is_in(clouds)).drop('description')\n",
    "\n",
    "with pl.Config(tbl_rows=100):\n",
    "    print(cloud_codes)\n",
    "\n",
    "cloud_codes.write_csv('clouds.csv', include_header=True)\n",
    "\n",
    "# for name, count, pct in cloud_codes.iter_rows():\n",
    "#     print(f'{name} & {count} & {pct:.1f}\\\\%', '\\\\\\\\\\n\\\\midrule')\n",
    "\n",
    "non_cloud_codes = codes_df.filter(pl.col('name').is_in(clouds).not_()).drop('description')\n",
    "\n",
    "print(non_cloud_codes)\n",
    "\n",
    "# There is a difference between number of commits and number of cloud occurrences\n",
    "# explained by cloud migrations, multi-cloud deployments and commits that do not reference cloud providers\n",
    "print(cloud_codes.select('count').sum())\n",
    "for d in diffs:\n",
    "    n_clouds = len(set(d['codes']) & clouds)\n",
    "    if n_clouds != 1:\n",
    "        print(d['url'], d['codes'])"
   ]
  },
  {
   "cell_type": "code",
   "execution_count": 18,
   "metadata": {},
   "outputs": [
    {
     "data": {
      "text/plain": [
       "(0.0, 450.0)"
      ]
     },
     "execution_count": 18,
     "metadata": {},
     "output_type": "execute_result"
    },
    {
     "data": {
      "image/png": "[encoded data removed]",
      "text/plain": [
       "<Figure size 1200x600 with 1 Axes>"
      ]
     },
     "metadata": {},
     "output_type": "display_data"
    }
   ],
   "source": [
    "import matplotlib.pyplot as plt\n",
    "\n",
    "cloud_names = cloud_codes.get_column('name').to_list()\n",
    "cloud_counts = cloud_codes.get_column('count').to_list()\n",
    "\n",
    "plt.style.use('ggplot')\n",
    "\n",
    "plt.figure(figsize=(12, 6))\n",
    "bars = plt.bar(cloud_names, cloud_counts)\n",
    "\n",
    "plt.bar_label(bars, padding=3)\n",
    "\n",
    "plt.grid(True, which='both', linestyle='--', linewidth=0.5)\n",
    "\n",
    "plt.xlabel('Cloud provider code')\n",
    "plt.ylabel('Count')\n",
    "plt.ylim(0, 450)"
   ]
  },
  {
   "cell_type": "markdown",
   "metadata": {},
   "source": [
    "### Uniqueness\n",
    "\n",
    "Determine how many unique owners the code occurs for, to see if there is actually a pattern across developers/organizations."
   ]
  },
  {
   "cell_type": "code",
   "execution_count": 6,
   "metadata": {},
   "outputs": [
    {
     "name": "stdout",
     "output_type": "stream",
     "text": [
      "number of unique owners: 360\n",
      "shape: (50, 3)\n",
      "┌─────────────────────────────────┬─────────────────────────────────┬──────────┐\n",
      "│ name                            ┆ owners                          ┆ n_owners │\n",
      "│ ---                             ┆ ---                             ┆ ---      │\n",
      "│ str                             ┆ list[str]                       ┆ u32      │\n",
      "╞═════════════════════════════════╪═════════════════════════════════╪══════════╡\n",
      "│ no_cost_change                  ┆ [\"ssfsx17\", \"emeloibmco\", … \"z… ┆ 130      │\n",
      "│ cheaper_instance                ┆ [\"fdns\", \"dotancohen81\", … \"ni… ┆ 64       │\n",
      "│ new_gen                         ┆ [\"dotancohen81\", \"greenbrian\",… ┆ 27       │\n",
      "│ dynamo_on_demand                ┆ [\"kperson\", \"tesera\", … \"deptn… ┆ 21       │\n",
      "│ remove_nat_gateway              ┆ [\"joshuaspence\", \"naftulikay\",… ┆ 18       │\n",
      "│ …                               ┆ …                               ┆ …        │\n",
      "│ reduce_eip                      ┆ [\"simplygenius\", \"stSoftwareAU… ┆ 2        │\n",
      "│ use_default_kms_key             ┆ [\"thatscotdatasci\", \"jonbamber… ┆ 2        │\n",
      "│ use_bucket_key                  ┆ [\"dfds\", \"chqaversion\"]         ┆ 2        │\n",
      "│ remove_container_insights       ┆ [\"Accurate0\", \"cloudspout\"]     ┆ 2        │\n",
      "│ remove_prometheus_kube_api_scr… ┆ [\"alphagov\", \"matihost\"]        ┆ 2        │\n",
      "└─────────────────────────────────┴─────────────────────────────────┴──────────┘\n"
     ]
    }
   ],
   "source": [
    "def repo_owner(diff: dict[str, str]) -> str:\n",
    "    _, _, _, owner, *_ = diff['url'].split('/')\n",
    "    return owner\n",
    "\n",
    "n_owners = len(set(repo_owner(d) for d in diffs))\n",
    "print('number of unique owners:', n_owners)\n",
    "\n",
    "owners = [\n",
    "    {\n",
    "        'name': c['name'],\n",
    "        'owners': list(set(repo_owner(d) for d in diffs if c['name'] in d['codes']))\n",
    "    }\n",
    "    for c in codes\n",
    "]\n",
    "owners_df = pl.DataFrame(owners) \\\n",
    "                .with_columns(n_owners=pl.col('owners').list.len()) \\\n",
    "                .sort(by=pl.col('n_owners'), descending=True)\n",
    "\n",
    "filtered = owners_df.filter(pl.col('name').is_in(clouds).not_()).filter(pl.col('n_owners') >= 2)\n",
    "\n",
    "print(filtered)\n",
    "\n",
    "#filtered.drop('owners').write_csv('unique_owners.csv')"
   ]
  },
  {
   "cell_type": "markdown",
   "metadata": {},
   "source": [
    "### Undefined codes\n",
    "\n",
    "List codes which are attached to commits but not defined in `codes.json`."
   ]
  },
  {
   "cell_type": "code",
   "execution_count": 7,
   "metadata": {},
   "outputs": [],
   "source": [
    "listed_codes = set(c['name'] for c in codes)\n",
    "for d in diffs:\n",
    "    for c in d['codes']:\n",
    "        if c not in listed_codes:\n",
    "            print(f'{c} is not listed')"
   ]
  }
 ],
 "metadata": {
  "kernelspec": {
   "display_name": "venv",
   "language": "python",
   "name": "python3"
  },
  "language_info": {
   "codemirror_mode": {
    "name": "ipython",
    "version": 3
   },
   "file_extension": ".py",
   "mimetype": "text/x-python",
   "name": "python",
   "nbconvert_exporter": "python",
   "pygments_lexer": "ipython3",
   "version": "3.12.4"
  }
 },
 "nbformat": 4,
 "nbformat_minor": 2
}
