{
 "cells": [
  {
   "cell_type": "markdown",
   "metadata": {},
   "source": [
    "# Themes and Patterns"
   ]
  },
  {
   "cell_type": "code",
   "execution_count": 1,
   "metadata": {},
   "outputs": [],
   "source": [
    "import json\n",
    "import operator\n",
    "import polars as pl\n",
    "from functools import reduce\n",
    "\n",
    "with open('diffs.json', 'r') as f:\n",
    "    diffs = json.load(f)\n",
    "\n",
    "diffs_df = pl.DataFrame(diffs).drop('files', 'existing_codes', 'notes')"
   ]
  },
  {
   "cell_type": "markdown",
   "metadata": {},
   "source": [
    "## Budget"
   ]
  },
  {
   "cell_type": "code",
   "execution_count": 2,
   "metadata": {},
   "outputs": [
    {
     "name": "stdout",
     "output_type": "stream",
     "text": [
      "https://github.com/AJarombek/global-aws-infrastructure/commit/4a89f4b8235961275fa0e6aaf20848f2b8b7e733 ['aws', 'add_budget']\n",
      "https://github.com/MartinFeineis/terraform/commit/359ba426393c78b78695797f9bdd6a08c0455720 ['aws', 'add_billing_alarm']\n",
      "https://github.com/stuartellis/stuartellis-org-tf-modules/commit/39a9cabac6765c75591ba258fef0d10ba7ae0f9e ['aws', 'add_billing_alarm']\n",
      "https://github.com/forgotpw/forgotpw-infrastructure/commit/f4363ad27d366385f2388d073ce8af796e035406 ['aws', 'add_billing_alarm']\n",
      "https://github.com/Katesagay/terraform-repo/commit/9aacfbe12e3e7c1e726b9a3d834211aae01f419c ['aws', 'add_billing_alarm']\n",
      "https://github.com/darogina/terragrunt-aws-modules/commit/9c84d03bde131e7f349dcd493ba5b7e55bf8ae2c ['aws', 'replace_billing_alarm_budget']\n",
      "https://github.com/chetanbothra/Terraform_AWS_Billing_Alert/commit/43b0d3b4cef0d3f57d4f5d4f1c7aeb9bfc3e362a ['aws', 'add_budget']\n",
      "https://github.com/ntk1000/aws-terraform-template/commit/d016b96d89370b8039817fabdfa055576cf6b4cc ['aws', 'add_billing_alarm']\n",
      "https://github.com/StratusGrid/terraform-aws-single-account-starter/commit/c291c0954c89e1bfbdb76d4c8990baf9db986343 ['aws', 'add_billing_alarm']\n",
      "https://github.com/nsbno/terraform-aws-cost-alarm/commit/7e135499d33f0a5c51602a506fefe258cac072c6 ['aws', 'add_budget']\n",
      "https://github.com/64kramsystem/ultimate_aws_certified_cloud_practitioner_course_terraform_configuration/commit/2f36b8a5f2f818138da72d218c1f3c9666ed54aa ['aws', 'add_billing_alarm']\n",
      "https://github.com/kelledge/idkfa/commit/25cda0b77ff329a89551cc6f14fe8c62820fd424 ['aws', 'add_billing_alarm']\n",
      "https://github.com/oke-py/aws-tf/commit/ec2982c8742cc7bc294f8a3cc07ae9ba5ffcaced ['aws', 'add_budget']\n",
      "https://github.com/cob16/aws_static_website/commit/0d4fbd0a7b296a5c9377a835dff89d1499716082 ['aws', 'add_billing_alarm']\n",
      "https://github.com/mintak21/terraform-old/commit/c10b476d869282ed6cf55def47445b9c703788fe ['aws', 'add_billing_alarm']\n",
      "https://github.com/alphagov/govwifi-terraform/commit/348b52a2ae5d6d242c8802644f9e3a5e6460de1d ['aws', 'add_billing_alarm']\n",
      "https://github.com/eladidan/speedyhead.xyz-terraform/commit/71f034f3e13e9118a2a954e1fc3c0d35153184f0 ['gcp', 'add_budget']\n",
      "https://github.com/coremaker/terraform-google-nucleus/commit/11234f631f7370dd80ee5fbc5dd7bdbc12dcbf49 ['gcp', 'add_budget']\n",
      "https://github.com/robgmills/jumpbox/commit/028bbe114d099b0388be9a46adcab80d9383a518 ['aws', 'add_budget']\n",
      "https://github.com/AdrianNeatu/blog-terraform/commit/3ba302c69eb2a491a5b23e94084b4ddd24a4a703 ['aws', 'add_billing_alarm']\n",
      "https://github.com/richardhughes/infra-modules/commit/48015a86eda461d99b580b69db5922acbe5bd28e ['aws', 'add_budget']\n",
      "https://github.com/patheard/terraform-cantrill-aws-associate/commit/bc7484cd34698f2724e5d9f241fd9f53d953e3a3 ['aws', 'add_billing_alarm']\n",
      "https://github.com/alghanmi/terraform-modules/commit/f4e8069ff11b7ca7a15ce25843b26d00fb399ade ['aws', 'add_billing_alarm']\n",
      "https://github.com/cds-snc/cloud-based-sensor/commit/10bb572d477197bd3874532bfd364de1cb496d05 ['aws', 'add_billing_alarm']\n",
      "https://github.com/rmaheshvarma/terraform/commit/c866a7dd2575dd2a3f4af83f5f081a5004d0e478 ['aws', 'add_budget']\n",
      "https://github.com/akerl/aws-account/commit/91967d4089ad9580ceae62f7845581935c892455 ['aws', 'add_billing_alarm']\n",
      "https://github.com/singaporewaketools/iaac/commit/197502b1ac4bab77b9ab017b755c4d75ddaa218b ['aws', 'add_billing_alarm']\n"
     ]
    }
   ],
   "source": [
    "budget_codes = [\n",
    "    'add_billing_alarm',\n",
    "    'add_budget',\n",
    "    'replace_billing_alarm_budget'\n",
    "]\n",
    "expr = reduce(\n",
    "    operator.or_,\n",
    "    (pl.col('codes').list.contains(c) for c in budget_codes)\n",
    ")\n",
    "\n",
    "for url, codes in diffs_df.filter(expr).iter_rows():\n",
    "    print(url, codes)"
   ]
  },
  {
   "cell_type": "markdown",
   "metadata": {},
   "source": [
    "## Spot instances"
   ]
  },
  {
   "cell_type": "code",
   "execution_count": 3,
   "metadata": {},
   "outputs": [
    {
     "name": "stdout",
     "output_type": "stream",
     "text": [
      "https://github.com/openinfrastructure/terraform-google-gitlab-runner/commit/8429375df72b04cc6fedc1ebb5f2c2e4ba18b9f2 ['gcp', 'add_preemptible']\n",
      "https://github.com/kathputli/terraform-aws/commit/321b1aee88f7d15dafe46aede2b86ced70061025 ['aws', 'use_spot_fleet']\n",
      "https://github.com/naciriii/terraform-ec2-gitlab-runner/commit/f8af6bc22bd3d827566e7e65deb63c13cdaf6031 ['aws', 'use_spot_instance']\n",
      "https://github.com/Hapag-Lloyd/terraform-aws-bastion-host-ssm/commit/516075e2987bdd1063f22768d451c1c1eb647175 ['aws', 'use_spot_instance']\n",
      "https://github.com/ToruMakabe/aks-anti-dry-iac/commit/4ba7a9dc3085ab701c85737a4f36dd57fcd7596f ['azure', 'use_spot_instance']\n",
      "https://github.com/paperphyte/terraform-drone/commit/79f4b7c2cf3ad2d1a6d2646eaf27a08fd2611d07 ['aws', 'use_spot_fleet']\n",
      "https://github.com/filhodanuvem/from-dev-to-ops/commit/998be8119321e8812884075b078a1d5fb36cfa69 ['aws', 'use_spot_instance']\n",
      "https://github.com/stephaneclavel/terraform/commit/74b4ba406b9ea761d27298165d0e0de45c9d8491 ['azure', 'use_spot_instance']\n",
      "https://github.com/tale-toul/SingleNodeOpenshiftOnLibvirt/commit/638430604158044fcf123adaf8dfdcc91b1a873e ['aws', 'use_spot_instance']\n",
      "https://github.com/JaredStufftGD/grok-airflow/commit/7ac9544b0c651fd8193eb063079514d0aa41e290 ['aws', 'use_fargate_spot_capacity_provider']\n",
      "https://github.com/kaz/kiritan.com/commit/1cd96c7f71e56629ffa07c38e12c4da19fcfc5f7 ['gcp', 'cheaper_instance', 'smaller_disk', 'add_preemptible']\n",
      "https://github.com/openinfrastructure/terraform-google-multinic/commit/7a9c468b88d2edee19007cff6529a20a38eeb363 ['gcp', 'add_preemptible']\n"
     ]
    }
   ],
   "source": [
    "spot_codes = [\n",
    "    'use_spot_instance',\n",
    "    'add_preemptible',\n",
    "    'use_spot_fleet',\n",
    "    'use_fargate_spot_capacity_provider',\n",
    "]\n",
    "expr = reduce(\n",
    "    operator.or_,\n",
    "    (pl.col('codes').list.contains(c) for c in spot_codes)\n",
    ")\n",
    "\n",
    "for url, codes in diffs_df.filter(expr).iter_rows():\n",
    "    print(url, codes)"
   ]
  },
  {
   "cell_type": "markdown",
   "metadata": {},
   "source": [
    "## Lifecycle rules"
   ]
  },
  {
   "cell_type": "code",
   "execution_count": 4,
   "metadata": {},
   "outputs": [
    {
     "name": "stdout",
     "output_type": "stream",
     "text": [
      "https://github.com/alphagov/govuk-aws/commit/f844cd8e254b161bebef04101f8ce177bcd0840c ['aws', 'add_lifecycle_rule']\n",
      "https://github.com/alphagov/govuk-terraform-provisioning/commit/ac105ab0a5ae38fbf69167e072f8970a4a61c3e8 ['aws', 'add_lifecycle_rule']\n",
      "https://github.com/ExpediaGroup/apiary-data-lake/commit/47e62f2fc73a96611606cd619c084d1ded9d844d ['aws', 'add_lifecycle_rule']\n",
      "https://github.com/SamTowne/BasketballDrillBot/commit/4ec6d54e4d36ab02b0a7daf042e727717371eaec ['aws', 'add_lifecycle_rule']\n",
      "https://github.com/utilitywarehouse/tf_telecom/commit/17007456991c1a8faa26b1f4ac993883f577d124 ['aws', 'add_lifecycle_rule']\n",
      "https://github.com/trajano/terraform-s3-backend/commit/cb9f00a2f6f23b44f7db08863ef5fb0b9ea0bc0c ['aws', 'add_lifecycle_rule']\n"
     ]
    }
   ],
   "source": [
    "for url, codes in diffs_df.filter(pl.col('codes').list.contains('add_lifecycle_rule')).iter_rows():\n",
    "    print(url, codes)"
   ]
  },
  {
   "cell_type": "markdown",
   "metadata": {},
   "source": [
    "## Expensive instance"
   ]
  },
  {
   "cell_type": "code",
   "execution_count": 5,
   "metadata": {},
   "outputs": [
    {
     "name": "stdout",
     "output_type": "stream",
     "text": [
      "https://github.com/beaulabs/terraform_aws_ec2_instance/commit/d6df68da5ae58fb5c650c6be15d9d8e676a129db ['aws', 'cheaper_instance']\n",
      "https://github.com/gudlyf/TerraformOpenVPN/commit/4bc861c153b65a2d7c0d5f3fac30ab72b0fc6942 ['azure', 'cheaper_instance']\n",
      "https://github.com/IncredibleHolg/infra-aws-code/commit/70904707a36ff8e5167e695de3529d8318911ba4 ['aws', 'reduce_efs_ia_transition', 'cheaper_instance']\n",
      "https://github.com/ministryofjustice/cloud-platform-infrastructure/commit/e5dd13d33c1e927f932971d067d8f70e9041b5f3 ['aws', 'cheaper_instance']\n",
      "https://github.com/cisagov/cyhy_amis/commit/4e67a501bb3f5187a3e9af523921ac62b8a88469 ['aws', 'cheaper_instance']\n",
      "https://github.com/Kalmalyzer/UE-Jenkins-BuildSystem/commit/636097557e403eb1d6b6211b09e30c47e7f39466 ['gcp', 'cheaper_instance']\n",
      "https://github.com/dshmelev/aws_kube_tc/commit/853298ac74250964aa2d2ea921daa5905528b3a9 ['aws', 'cheaper_instance']\n",
      "https://github.com/aaaaasam/azure/commit/c7bc0ce6f3fcaffcbbe7753f1a9d8437809bc167 ['azure', 'cheaper_instance']\n",
      "https://github.com/rbabyuk/terra/commit/beae899804779adf914c08f290c5d71b542c9ed1 ['gcp', 'cheaper_instance']\n",
      "https://github.com/Leonard-Ta/Sample-Security-service-Terraform/commit/c16481a84d5823b65ce96bd811a265222385b43b ['azure', 'cheaper_instance', 'cheaper_disk_type']\n",
      "https://github.com/jjffggpp/jjffggpp/commit/93ee12adde6ac773c76b590fe89c24df372f326b ['azure', 'cheaper_instance']\n",
      "https://github.com/EngineerBetter/kf-infra/commit/fa5f7fb35b0b44020fb81dd5c4e3b9ceaca1f967 ['gcp', 'cheaper_instance']\n",
      "https://github.com/KoutaroNohira/hashicat/commit/81dc1d3f98034672d5f62f440f2cc3abc58ce2a2 ['aws', 'cheaper_instance']\n",
      "https://github.com/wallnerryan/terraform-scaleio/commit/605e74facfa2ff519ba5cda6e57474666901bd8c ['aws', 'cheaper_instance']\n",
      "https://github.com/UrbanOS-Examples/common/commit/206394bcc75866953f64cbf3bd6214e4e6f96e91 ['aws', 'cheaper_instance']\n",
      "https://github.com/cookpad/terraform-aws-eks/commit/59c40286757e1fa5cb5391421c5380e5ad506387 ['aws', 'cheaper_instance']\n",
      "https://github.com/ayltai/hknews-infrastructure/commit/68171be117d3997b84253258f41fad6daedbc76a ['aws', 'cheaper_instance']\n",
      "https://github.com/joelchrist/terraform/commit/bbf18d695bd7597977ea7a97d5434ca7f1a37d57 ['gcp', 'cheaper_instance']\n",
      "https://github.com/jg210/aws-experiments/commit/5ff37f12a421fdd902d8eb1e6d7491ee181fd179 ['aws', 'cheaper_instance']\n",
      "https://github.com/scott45/vof-deployment-scripts/commit/c6b2c1bee4c1e53e87fd3d94fc8c07cf64342d7b ['gcp', 'cheaper_instance']\n",
      "https://github.com/fdns/terraform-k8s/commit/f106917bb7b2d8d4428022bb119585bf9f35769c ['aws', 'cheaper_instance', 'smaller_disk', 'reduce_spot_fleet_price']\n",
      "https://github.com/ministryofjustice/hmpps-env-configs/commit/670c006bad288d0360c3811aa63b3c323753c385 ['aws', 'cheaper_instance']\n",
      "https://github.com/ministryofjustice/hmpps-env-configs/commit/954dda617d47007a8a1ff5780d3174e900e95be1 ['aws', 'cheaper_instance']\n",
      "https://github.com/Linaro/qa-reports.linaro.org/commit/76c8d1ee35046912b6da4f1cc23e8b1dcc12abe9 ['aws', 'cheaper_instance']\n",
      "https://github.com/KieniL/terraform_setups/commit/37f66bc43f57b1b7a5a897c58cefe09900afd7ef ['azure', 'cheaper_instance']\n",
      "https://github.com/digio/terraform-google-gitlab-runner/commit/07f8279fe65a35c0e595f3171f3d75791e49a9ae ['gcp', 'cheaper_instance']\n",
      "https://github.com/jharley/azure-basic-demo/commit/7cd3d202d8723c565704f23c143cae3b1e1d6d2b ['azure', 'cheaper_instance']\n",
      "https://github.com/pangeo-data/terraform-deploy/commit/f8163bd52bea3774e2f160cff0523c602e65d933 ['aws', 'cheaper_instance', 'less_memory', 'less_cpu']\n",
      "https://github.com/pangeo-data/terraform-deploy/commit/7244eed07a1008675f45cc4349bf68141bb29edc ['aws', 'cheaper_instance']\n",
      "https://github.com/aeternity/terraform-aws-devnet/commit/f4113a8f7e52991dfb75f63688aeba77bac76b01 ['aws', 'cheaper_instance']\n",
      "https://github.com/schubergphilis/terraform-aws-mcaf-matillion/commit/3b0e2fe42d660664c49d54ae8706de004a9b4176 ['aws', 'remove_rds_instance', 'remove_alb', 'cheaper_instance']\n",
      "https://github.com/binbashar/le-tf-infra-aws/commit/0208ae3bc238f029b1faf6bdc3552dbe6147657b ['aws', 'cheaper_instance']\n",
      "https://github.com/fpco/terraform-aws-foundation/commit/cfe92035f1b281cddfcf62664ec6b96e85e0ac32 ['aws', 'cheaper_instance']\n",
      "https://github.com/Civil-Service-Human-Resources/lpg-terraform-paas/commit/59477d3dc237e72252bde005b783213b7e8ed961 ['azure', 'cheaper_instance']\n",
      "https://github.com/ibm-cloud-architecture/iks_vpc_lab/commit/629819ce0c440760be155874cb42ab497f0304bd ['ibm', 'cheaper_instance']\n",
      "https://github.com/goodpen/gke-v.1.0/commit/45053a0862bf97f0525862c411fa4da5d59ac397 ['gcp', 'cheaper_instance']\n",
      "https://github.com/rshurts/gke-cd-with-spinnaker/commit/3bc712aba0c797053b5cdc113e3e46afb6cff8a5 ['gcp', 'cheaper_instance']\n",
      "https://github.com/kaz/kiritan.com/commit/1cd96c7f71e56629ffa07c38e12c4da19fcfc5f7 ['gcp', 'cheaper_instance', 'smaller_disk', 'add_preemptible']\n",
      "https://github.com/midl-dev/tezos-auxiliary-cluster/commit/9cbfebaab11cb3466b160d18ef2eb46c0b875d55 ['gcp', 'cheaper_instance']\n",
      "https://github.com/NLnetLabs/rpki-deploy/commit/8bd6e745475f635d6f6b6929a545afa2e1d9dd57 ['digitalocean', 'cheaper_instance']\n",
      "https://github.com/TimonB/tf-azure-example/commit/ce89df3cebc6487146391afe9517661053229f77 ['azure', 'cheaper_instance']\n",
      "https://github.com/00inboxtest/terraform-google-vault/commit/1d0b5db7f310dc6a47af3130a97e5373d9cdaddf ['gcp', 'cheaper_instance']\n",
      "https://github.com/Amberoat/didactic-octo-eureka/commit/494706fc421a0ddda47f7d543b7e7a296c378c26 ['azure', 'cheaper_instance']\n",
      "https://github.com/robertdebock/terraform-aws-vault/commit/757edca9d6fb2231ebdcf03ec611183c59eaf39b ['aws', 'cheaper_instance']\n",
      "https://github.com/covid-videoplattform/covid-videoplattform/commit/83d8b928ecb3f271a058bb30eaa1e05ce10e0434 ['gcp', 'cheaper_instance']\n",
      "https://github.com/alphagov/govuk-infrastructure/commit/a51a3bfcd73fd55ecd43aa36ce3f266f0cefc2dc ['aws', 'cheaper_instance']\n",
      "https://github.com/pelias/terraform-elasticsearch/commit/8454c8ee25e821abde10b73a2fec691269e41822 ['aws', 'cheaper_instance', 'reduce_instance_count']\n",
      "https://github.com/ironpeakservices/infrastructure/commit/2ca24fa9114b5b4389768d5ab93c1e6d99bb287c ['scaleway', 'cheaper_instance']\n",
      "https://github.com/robertdebock/git-terraform-demo/commit/5638b1a044215292a5e3fa405b6a0567c6b35436 ['digitalocean', 'cheaper_instance']\n",
      "https://github.com/robertdebock/git-terraform-demo/commit/686374095321975d851932a77b139d627f50c7d5 ['digitalocean', 'cheaper_instance']\n"
     ]
    }
   ],
   "source": [
    "expr = pl.col('codes').list.contains('cheaper_instance') & pl.col('codes').list.contains('new_gen').not_()\n",
    "\n",
    "for url, codes in diffs_df.filter(expr).iter_rows():\n",
    "    print(url, codes)"
   ]
  },
  {
   "cell_type": "markdown",
   "metadata": {},
   "source": [
    "## Old generation"
   ]
  },
  {
   "cell_type": "code",
   "execution_count": 6,
   "metadata": {},
   "outputs": [
    {
     "name": "stdout",
     "output_type": "stream",
     "text": [
      "https://github.com/gudlyf/TerraformOpenVPN/commit/be1245d8634025277ba79a4155ee88d7eaffcdfb ['aws', 'cheaper_instance', 'new_gen']\n",
      "https://github.com/alphagov/govuk-aws/commit/6cfda6ada5137b232ff442ae9f2aedc8520ee1b4 ['aws', 'cheaper_instance', 'new_gen']\n",
      "https://github.com/alphagov/govuk-aws/commit/aeb3bfbe393cdfc02e62b812843ed75cf5f245e4 ['aws', 'cheaper_instance', 'new_gen']\n",
      "https://github.com/alphagov/govuk-aws/commit/5fa5da9756f12559b490217dd5b173db48e7f2a9 ['aws', 'cheaper_instance', 'new_gen']\n",
      "https://github.com/alphagov/govuk-aws/commit/19d187e4a29147cbcf1cfae456cfcbfa8ad52b45 ['aws', 'new_gen']\n",
      "https://github.com/alphagov/govuk-aws/commit/806b1a2a47f2f4e580e524b2cf8cc5928749d972 ['aws', 'cheaper_volume', 'new_gen']\n",
      "https://github.com/alphagov/govuk-aws/commit/8d7d2ebe0dbe9ebf8009572d1d710c4700cf245e ['aws', 'cheaper_volume', 'new_gen']\n",
      "https://github.com/greenbrian/musical-spork/commit/24c07bfd5c31438fff6374e9ba3d577e6402d777 ['aws', 'cheaper_os', 'cheaper_instance', 'new_gen']\n",
      "https://github.com/dotancohen81/Rancher/commit/90944271b4e8bd46e3d42ac64bc4964a33a8fdc3 ['aws', 'cheaper_instance', 'new_gen']\n",
      "https://github.com/cisagov/cyhy_amis/commit/7b8d9247a679295e0e1791b13d6c437c473e44b8 ['aws', 'cheaper_volume', 'new_gen']\n",
      "https://github.com/yardbirdsax/elasticsearch-the-hard-way/commit/521bae59a4002a616eac44c1681ca5066bbd00c8 ['aws', 'cheaper_instance', 'new_gen']\n",
      "https://github.com/GBergeret/tf-vpc-module/commit/34d80ece7d0ef598414baffceb074c6580dd819b ['aws', 'cheaper_instance', 'new_gen']\n",
      "https://github.com/cisagov/vulnerable-instances/commit/f70410061b8c6b9249895571e05dfb7a142efb18 ['aws', 'cheaper_volume', 'new_gen']\n",
      "https://github.com/dwp/dataworks-aws-data-egress/commit/14f065e5161fee14c286c34df7db9f5516ef9bb6 ['aws', 'cheaper_volume', 'new_gen', 'smaller_disk']\n",
      "https://github.com/circleci/enterprise-setup/commit/26cc5295c2bb9d8756e450712e0f5f75af440c4a ['aws', 'cheaper_instance', 'new_gen']\n",
      "https://github.com/bh1m2rn/gitlab-environment-toolkit/commit/b9750f0bb88bc22256085b6bc8f060055e90a8c4 ['aws', 'cheaper_volume', 'new_gen']\n",
      "https://github.com/travis-ci/terraform-config/commit/4f641b162fa877aef842481631906d5bfe874781 ['aws', 'cheaper_instance', 'new_gen']\n",
      "https://github.com/byu-oit/terraform-aws-rds/commit/86a0795540edb426c3226775d73fcd4ce807d36a ['aws', 'cheaper_instance', 'new_gen']\n",
      "https://github.com/poseidon/terraform-azure-kubernetes/commit/633eb938742a43be09612b944c29aaaf70dac119 ['azure', 'cheaper_instance', 'new_gen']\n",
      "https://github.com/poseidon/terraform-aws-kubernetes/commit/e09126b45746f1c967d1990fa04ce781a0478c6d ['aws', 'cheaper_instance', 'new_gen']\n",
      "https://github.com/deadlysyn/terraform-keycloak-aws/commit/1c982ac4120ae3ed5a88c38f2a4d568ad9a83d22 ['aws', 'cheaper_instance', 'new_gen']\n",
      "https://github.com/ONSdigital/eq-terraform/commit/79845fe095cd87287346f40d2adce9b28a32ef35 ['aws', 'cheaper_instance', 'new_gen']\n",
      "https://github.com/kinvolk-archives/lokomotive-kubernetes/commit/f2f4deb8bb44988eeb0b64b919e51fb556aef4fb ['aws', 'cheaper_instance', 'new_gen']\n",
      "https://github.com/smarman85/a_new_hope/commit/de97a6b8033c866c3b711468207aa4890049daaa ['aws', 'cheaper_instance', 'new_gen']\n",
      "https://github.com/kmishra9/PL2-AWS-Setup/commit/0d7b5b0f6f92ff6cfde1f17ad96d1b1459a0957a ['aws', 'cheaper_instance', 'new_gen']\n",
      "https://github.com/cisagov/cool-sharedservices-nessus/commit/5403a8978053a1299b0afe8d7fc59e914fc5e354 ['aws', 'cheaper_volume', 'new_gen']\n",
      "https://github.com/guillaumekh/wg-terraform-template/commit/effee9cbc473af5d07cfc3aacece50aa6e59753a ['aws', 'cheaper_instance', 'new_gen']\n",
      "https://github.com/ninthnails/terraform-aws-camellia/commit/0019704e14723aaf326840ab36c594c3f514a2d4 ['aws', 'cheaper_instance', 'new_gen']\n",
      "https://github.com/openaustralia/infrastructure/commit/63ee190c0ae1832bb72681e1e4b1b14a9367b4bb ['aws', 'cheaper_volume', 'new_gen']\n",
      "https://github.com/robertdebock/terraform-aws-vault/commit/e3b6520960a88aacbf03339dc1368f680a8bee9a ['aws', 'cheaper_instance', 'new_gen']\n",
      "https://github.com/cisagov/cool-assessment-terraform/commit/3138943ab4d15cc256d322e1128862ef11383c73 ['aws', 'cheaper_volume', 'new_gen']\n",
      "https://github.com/pelias/terraform-elasticsearch/commit/21c1827f4507eae217d43d99ad8cb1bbb1337e21 ['aws', 'cheaper_instance', 'new_gen']\n",
      "https://github.com/lowflying/OVPN---TF/commit/be1245d8634025277ba79a4155ee88d7eaffcdfb ['aws', 'cheaper_instance', 'new_gen']\n",
      "https://github.com/figurate/bedrock/commit/bffc023eeff075ef281b1fd261897f4c7216b354 ['aws', 'cheaper_instance', 'new_gen']\n"
     ]
    }
   ],
   "source": [
    "expr = pl.col('codes').list.contains('new_gen')\n",
    "\n",
    "for url, codes in diffs_df.filter(expr).iter_rows():\n",
    "    print(url, codes)"
   ]
  },
  {
   "cell_type": "markdown",
   "metadata": {},
   "source": [
    "## Expensive disk type"
   ]
  },
  {
   "cell_type": "code",
   "execution_count": 7,
   "metadata": {},
   "outputs": [
    {
     "name": "stdout",
     "output_type": "stream",
     "text": [
      "https://github.com/thomastodon/jabujabu/commit/02210a3d3ba4a770c29623825b7f54f3ff33f3c7 ['gcp', 'smaller_disk', 'cheaper_disk_type', 'remove_loadbalancer']\n",
      "https://github.com/giantswarm/giantnetes-terraform/commit/53ed24b573947c73ea9f0f4f8b477c44b7de2d54 ['azure', 'reduce_node_count', 'cheaper_disk_type']\n",
      "https://github.com/Kalmalyzer/UE-Jenkins-BuildSystem/commit/ee8942b2c5d59546dd3b3be5f2cb88500d0fe1be ['gcp', 'cheaper_disk_type']\n",
      "https://github.com/Leonard-Ta/Sample-Security-service-Terraform/commit/c16481a84d5823b65ce96bd811a265222385b43b ['azure', 'cheaper_instance', 'cheaper_disk_type']\n",
      "https://github.com/falldamagestudio/UE4-GHA-BuildSystem/commit/e58083adbf91e7daa8ddb5db6c3b2e5c8c0a906c ['gcp', 'cheaper_disk_type']\n",
      "https://github.com/bculberson/btc2snowflake/commit/9f8227bf53ebc2b1bb0b99d0697f9f66eed7ab6d ['aws', 'cheaper_volume']\n",
      "https://github.com/ministryofjustice/hmpps-env-configs/commit/0328838420ac0d3754cf772a7d2f5bb1612193ed ['aws', 'cheaper_volume', 'remove_iops']\n",
      "https://github.com/travis-infrastructure/terraform-stuff/commit/1e208af4c83d093c900f4cccedbca6183142a07f ['gcp', 'cheaper_disk_type']\n",
      "https://github.com/sdcote/cloudsql/commit/dfe44fcf8f5a477e1fbc354f1b1d87af28895c0f ['gcp', 'cheaper_disk_type']\n",
      "https://github.com/wellcomecollection/archivematica-infrastructure/commit/ce576be106257496e20d946d6eab5f8783dada92 ['aws', 'cheaper_volume', 'explicit_value']\n",
      "https://github.com/jshcmpbll/Cloud-Mac-KVM/commit/361885d22c0304cb44683f9b005f82ca5e269841 ['gcp', 'cheaper_disk_type', 'smaller_disk', 'smaller_image']\n",
      "https://github.com/TimonB/tf-azure-example/commit/b49579fbecbe8002932fdfb86146f83efd60bfcf ['azure', 'cheaper_disk_type']\n",
      "https://github.com/phillhocking/aws-ubuntu-irssi/commit/1532e0c298ec4f8d7d749a884f7c46f2a2cf53d3 ['aws', 'explicit_value', 'less_cpu_cores', 'cheaper_disk_type']\n",
      "https://github.com/bhfsystem/fogg/commit/81e606a72e7c2e06c2f6d9c204086157aa82eac3 ['aws', 'cheaper_volume']\n",
      "https://github.com/bhfsystem/fogg/commit/7cc487f270d553f819fea0cf96e872c374979305 ['aws', 'cheaper_volume']\n",
      "https://github.com/cisagov/freeipa-server-tf-module/commit/99fd319a72d25441acf36fd2c167a875e9028935 ['aws', 'cheaper_volume', 'explicit_value']\n",
      "https://github.com/ministryofjustice/cloud-platform-terraform-monitoring/commit/87401ba23af26d379d8132cc09fd7cd212773ba1 ['aws', 'cheaper_volume', 'smaller_disk']\n"
     ]
    }
   ],
   "source": [
    "expr = (\n",
    "    pl.col('codes').list.contains('cheaper_volume') |\n",
    "    pl.col('codes').list.contains('cheaper_disk_type')\n",
    ") & pl.col('codes').list.contains('new_gen').not_()\n",
    "\n",
    "for url, codes in diffs_df.filter(expr).iter_rows():\n",
    "    print(url, codes)"
   ]
  },
  {
   "cell_type": "markdown",
   "metadata": {},
   "source": [
    "## Expensive network resource"
   ]
  },
  {
   "cell_type": "code",
   "execution_count": 8,
   "metadata": {},
   "outputs": [
    {
     "name": "stdout",
     "output_type": "stream",
     "text": [
      "https://github.com/stealthHat/k8s-terraform/commit/681a3f8b4942be495b3f2528fb9ee40d7a4eb08a ['aws', 'remove_nat_gateway']\n",
      "https://github.com/thomastodon/jabujabu/commit/02210a3d3ba4a770c29623825b7f54f3ff33f3c7 ['gcp', 'smaller_disk', 'cheaper_disk_type', 'remove_loadbalancer']\n",
      "https://github.com/structurefall/jamulus-builder/commit/7190744187e0aed2df8ce84f2a944294d6d4fc5b ['aws', 'reduce_subnets', 'remove_nat']\n",
      "https://github.com/joshuaspence/infrastructure/commit/d8e1979ea7954076f64ab4d3337b95f14a06fc31 ['aws', 'reduce_nat_gateways']\n",
      "https://github.com/joshuaspence/infrastructure/commit/b9b9465314e3b5ada78340d06b90703136cdf3dc ['aws', 'remove_nat_gateway']\n",
      "https://github.com/dexterchan/Terraform_Webserver/commit/af5af0b8e6a59a9c5879fde7eaaa86d694c2bfa2 ['aws', 'reduce_vpc_endpoint_subnets']\n",
      "https://github.com/austin1237/clip-stitcher/commit/4eed76f9bfd4f93181660178ea689d98cd6d66d5 ['aws', 'remove_private_subnet', 'remove_nat']\n",
      "https://github.com/IoT-Data-Marketplace/mp-infrastructure/commit/5afcf39a85fc972eb9bb3486e5dc8aeeba77d3ee ['aws', 'remove_vpn']\n",
      "https://github.com/InvictrixRom/website-infrastructure/commit/09e400452c1bde25fe393dd56c2fd608b84a18ac ['aws', 'remove_private_subnet', 'reduce_subnets', 'remove_route_table', 'remove_alb', 'reduce_instance_count']\n",
      "https://github.com/InvictrixRom/website-infrastructure/commit/44d66328ea4467d05d7fb8092631aff5afbd8b26 ['aws', 'remove_private_subnet', 'remove_nat']\n",
      "https://github.com/pvandervelde/infrastructure.azure.core.network.hub/commit/0ecf0a154918bd9bdc0f53557bc1f80920da6b14 ['azure', 'remove_firewall']\n",
      "https://github.com/Midas-Protocol/webtwo-infra/commit/25ed0319bf8099f0cc79eceba9104c73d9507e0d ['aws', 'remove_nat_gateway', 'remove_eip']\n",
      "https://github.com/GBergeret/tf-vpc-module/commit/5e63c8390cb1001daf4ad74bb2926cc060c0de08 ['aws', 'use_ec2_as_nat_gateway']\n",
      "https://github.com/GBergeret/micro-service-as-code/commit/46f76d50b8569f450ce909e04f3c5fa81b97737a ['aws', 'use_alb']\n",
      "https://github.com/ecsworkshop2018/expertalk-2018-ecs-workshop/commit/034908d914982eacea51b0ac61f2781069387412 ['aws', 'remove_eip', 'remove_nat_gateway', 'remove_route_table', 'remove_route']\n",
      "https://github.com/kitchen/personal-terraform/commit/fe1f2665b198308a438ec3d46b24843089df1a2a ['gcp', 'remove_nat']\n",
      "https://github.com/robertlupinek/rh-ex407/commit/0c679d7adfa5bf38d5c7846958f3508fc036b3e9 ['aws', 'associate_public_ip']\n",
      "https://github.com/skehlet/aws-batch-processing/commit/decdbce98d33cf2599aee554779ef5d8b5361d8f ['aws', 'remove_nat_gateway', 'use_ec2_as_nat_gateway']\n",
      "https://github.com/poseidon/terraform-aws-kubernetes/commit/ef0372d2684ef920c6e54cf8b9f80d87db90e636 ['aws', 'reduce_nlb']\n",
      "https://github.com/paperphyte/terraform-drone/commit/f62bfebb54530c9466cfdb21336794f24bcd63a7 ['aws', 'remove_loadbalancer']\n",
      "https://github.com/nisunisu/AWS_Blue_Green_Deployment/commit/d0741cddb32ed7970904693e3a697603fa21bbbb ['aws', 'remove_eip']\n",
      "https://github.com/ryanlg/ryhino-public/commit/e51b9583b2df3154b5c82da361d411d65ed23bab ['aws', 'remove_private_subnet']\n",
      "https://github.com/masterpointio/terraform-aws-nuke-bomber/commit/33fbb76715ce6e35565b5f83f7ece0f9df37d282 ['aws', 'remove_nat_gateway']\n",
      "https://github.com/kinvolk-archives/lokomotive-kubernetes/commit/0c4d59db87b67d7c7a0a0f54677961a01ed8fbe4 ['gcp', 'use_global_loadbalancing', 'remove_loadbalancer']\n",
      "https://github.com/alhardy-net/terraform-core-aws-alhardynet-networking/commit/30be6aa1969e37d512153b558540fe714b635c4c ['aws', 'remove_nat_gateway']\n",
      "https://github.com/alhardy-net/terraform-core-aws-alhardynet-networking/commit/f7b96f0b28008f8aed881cc211a5f3fdb3ae67ac ['aws', 'remove_nat_gateway']\n",
      "https://github.com/alhardy-net/terraform-core-aws-alhardynet-networking/commit/b26b9e5d1b13602a4c192d9697a12df7770906b2 ['aws', 'remove_nat_gateway']\n",
      "https://github.com/imma/fogg-env/commit/7de45302cfa8a7dca88ab61b3021091cc480b495 ['aws', 'remove_eip', 'remove_nat']\n",
      "https://github.com/schubergphilis/terraform-aws-mcaf-matillion/commit/3b0e2fe42d660664c49d54ae8706de004a9b4176 ['aws', 'remove_rds_instance', 'remove_alb', 'cheaper_instance']\n",
      "https://github.com/binbashar/le-tf-infra-aws/commit/a873443bd618ac9c14d12210ed4d12a11cc1f733 ['aws', 'remove_nat_gateway']\n",
      "https://github.com/binbashar/le-tf-infra-aws/commit/19c37f7e4e65d14e760f1ff8cf60cfd1e98c1a8b ['aws', 'remove_nat_gateway']\n",
      "https://github.com/binbashar/le-tf-infra-aws/commit/bbfbd2484ace2819ffceac9155b995ab870ee3a3 ['aws', 'remove_nat_gateway']\n",
      "https://github.com/mads-hartmann/cloud.mads-hartmann.com/commit/667f5715c19534bfe5b01ad692979447412fd033 ['aws', 'remove_waf']\n",
      "https://github.com/opszero/terraform-aws-kubespot/commit/decc9706133af9978ada6cf58a1a63343468e8a0 ['aws', 'remove_eip']\n",
      "https://github.com/stSoftwareAU/sts-network/commit/bf59a4c995822ccfdeee64781345c12ebefa967f ['aws', 'reduce_eip', 'reduce_nat_gateways']\n",
      "https://github.com/lean-delivery/terraform-module-aws-core/commit/25bbff736936b64a6120ef9608498830ecec33c0 ['aws', 'use_ec2_as_nat_gateway']\n",
      "https://github.com/CheesecakeLabs/django-drf-boilerplate/commit/e4003aa3c51b789e2a2b5828768a7d0f34659209 ['aws', 'remove_private_subnet', 'remove_nat_gateway', 'remove_nat']\n",
      "https://github.com/covidapihub/terraform-covidapihub/commit/3c5d381a20fbd287f1003271ee1ba64272325074 ['aws', 'remove_nat_gateway']\n",
      "https://github.com/simplygenius/atmos-recipes/commit/d27b48345a3827b8a10cb5388e42bd5cbea484bb ['aws', 'reduce_nat_gateways', 'reduce_eip']\n",
      "https://github.com/hellupline/terraform-eks-cluster/commit/2bd01358b3a30d1680074f9bbd120da3a1456450 ['aws', 'remove_nat_gateway', 'remove_eip', 'remove_private_subnet']\n",
      "https://github.com/tsub/ecs-sandbox/commit/8501fafbba186919c9e9b55a6a3fc72b4fb80909 ['aws', 'reduce_nat_gateways']\n",
      "https://github.com/schubergphilis/terraform-aws-mcaf-vpc/commit/6ca41e5ad697201a1d225e5d15134e547ee6ced3 ['aws', 'remove_eip', 'remove_nat_gateway']\n",
      "https://github.com/davidcallen/parkrunpointsleague/commit/21627e4057b3446b511e4369ca366e297cfc87eb ['aws', 'remove_transit_gateway']\n",
      "https://github.com/HarsheshShah08/HS-Terraform/commit/e0d0f044c54ebf491c122664d03e0cfe5d2b0823 ['aws', 'remove_nat_gateway', 'remove_private_subnet']\n",
      "https://github.com/nagpach/terraform-example-aws-vpc/commit/35d26fd046185ae079e09fa6435c41ae685e679e ['aws', 'remove_nat', 'remove_nat_gateway']\n",
      "https://github.com/appbricks/cloud-inceptor/commit/782a0a3c30cf83bcaeacc942789ccc903576fe8a ['aws', 'remove_eip']\n",
      "https://github.com/firehawkvfx/firehawk-prototype-deprecated/commit/894fb1d80c7a3953b7a51d7acd5e9b942faced8f ['aws', 'remove_nat_gateway']\n",
      "https://github.com/Xin00163/terraform/commit/f69ce3812180a20bbda69ff1432a1cd36342bc3b ['aws', 'remove_alb']\n",
      "https://github.com/jeffawang/infrastructure/commit/9f610811aea8c523332e9dccad9bb0800b70691e ['aws', 'remove_nat_gateway']\n",
      "https://github.com/stephengrier/my-infra/commit/e5742d6f4f93dd432c9d8d0a31493d43c45aaff1 ['aws', 'remove_nat_gateway', 'use_ec2_as_nat_gateway']\n",
      "https://github.com/naftulikay/titan/commit/a0ea4fd84a409fe4ee853effa9f309a005b0efc1 ['aws', 'remove_nat_gateway', 'remove_nat']\n"
     ]
    }
   ],
   "source": [
    "network_codes = [\n",
    "    'remove_nat_gateway',\n",
    "    'reduce_nat_gateways',\n",
    "    'use_ec2_as_nat_gateway',\n",
    "    'remove_nat',\n",
    "    'remove_eip',\n",
    "    'reduce_eip',\n",
    "    'remove_private_subnet',\n",
    "    'reduce_subnets',\n",
    "    'reduce_vpc_endpoint_subnets',\n",
    "    'remove_loadbalancer',\n",
    "    'remove_alb',\n",
    "    'use_alb',\n",
    "    'reduce_nlb',\n",
    "    'remove_route_table',\n",
    "    'remove_route',\n",
    "    'remove_vpn',\n",
    "    'remove_firewall',\n",
    "    'remove_transit_gateway',\n",
    "    'associate_public_ip',\n",
    "    'remove_waf',\n",
    "]\n",
    "expr = reduce(\n",
    "    operator.or_,\n",
    "    (pl.col('codes').list.contains(c) for c in network_codes)\n",
    ")\n",
    "\n",
    "for url, codes in diffs_df.filter(expr).iter_rows():\n",
    "    print(url, codes)"
   ]
  },
  {
   "cell_type": "markdown",
   "metadata": {},
   "source": [
    "## Overprovisioned resources"
   ]
  },
  {
   "cell_type": "code",
   "execution_count": 9,
   "metadata": {},
   "outputs": [
    {
     "name": "stdout",
     "output_type": "stream",
     "text": [
      "https://github.com/thomastodon/jabujabu/commit/02210a3d3ba4a770c29623825b7f54f3ff33f3c7 ['gcp', 'smaller_disk', 'cheaper_disk_type', 'remove_loadbalancer']\n",
      "https://github.com/guilhermerenew/infra-cost/commit/ba858d94e29d03e3e81533df8cd8bc85b9f176f1 ['aws', 'lambda_less_memory']\n",
      "https://github.com/chaspy/terraform-alibaba-isucon8/commit/53588dad5dd4c13903a6c582f74e1afe2671d33e ['alicloud', 'less_cpu_cores', 'less_memory']\n",
      "https://github.com/dwp/dataworks-aws-data-egress/commit/14f065e5161fee14c286c34df7db9f5516ef9bb6 ['aws', 'cheaper_volume', 'new_gen', 'smaller_disk']\n",
      "https://github.com/akaron/kubeadm_aws/commit/2e2092ec94b27a4c3f0b9f4ee4d46a1983a72518 ['aws', 'smaller_disk', 'reduce_instance_count']\n",
      "https://github.com/robertdebock/terraform-azurerm-container-group/commit/c0d6578f1ebbdcc9cab091017259e4d596bfe8c9 ['azure', 'less_cpu', 'less_memory']\n",
      "https://github.com/fdns/terraform-k8s/commit/f106917bb7b2d8d4428022bb119585bf9f35769c ['aws', 'cheaper_instance', 'smaller_disk', 'reduce_spot_fleet_price']\n",
      "https://github.com/jackofallops/terraform-aws-mysql-cluster/commit/7b2a446b0915a3ad26093f8234f7493ff152138a ['aws', 'smaller_disk', 'reduce_iops']\n",
      "https://github.com/alphagov/govwifi-terraform/commit/38d0a67cf70d46c26675ce60a7a647eef0f11e52 ['aws', 'less_memory']\n",
      "https://github.com/pangeo-data/terraform-deploy/commit/f8163bd52bea3774e2f160cff0523c602e65d933 ['aws', 'cheaper_instance', 'less_memory', 'less_cpu']\n",
      "https://github.com/eduardobaitello/terraform-eks/commit/c11fca6440a5000648f690e6282778fb4ec73309 ['aws', 'smaller_disk', 'explicit_value']\n",
      "https://github.com/jshcmpbll/Cloud-Mac-KVM/commit/361885d22c0304cb44683f9b005f82ca5e269841 ['gcp', 'cheaper_disk_type', 'smaller_disk', 'smaller_image']\n",
      "https://github.com/kaz/kiritan.com/commit/1cd96c7f71e56629ffa07c38e12c4da19fcfc5f7 ['gcp', 'cheaper_instance', 'smaller_disk', 'add_preemptible']\n",
      "https://github.com/dylanmtaylor/dylanmtaylor-terraform-aws/commit/44016d6a8e496b69308a81e88af8c9ef8b710ab3 ['aws', 'smaller_disk']\n",
      "https://github.com/roysjosh/terraform-unifi/commit/da9e2869456610a0228cb14f850c6eccddbb15e0 ['aws', 'smaller_disk']\n",
      "https://github.com/phillhocking/aws-ubuntu-irssi/commit/1532e0c298ec4f8d7d749a884f7c46f2a2cf53d3 ['aws', 'explicit_value', 'less_cpu_cores', 'cheaper_disk_type']\n",
      "https://github.com/ministryofjustice/cloud-platform-terraform-monitoring/commit/87401ba23af26d379d8132cc09fd7cd212773ba1 ['aws', 'cheaper_volume', 'smaller_disk']\n"
     ]
    }
   ],
   "source": [
    "overprovision_codes = [\n",
    "    'smaller_disk',\n",
    "    'less_memory',\n",
    "    'less_cpu_cores',\n",
    "    'less_cpu',\n",
    "    'lambda_less_memory',\n",
    "]\n",
    "expr = reduce(\n",
    "    operator.or_,\n",
    "    (pl.col('codes').list.contains(c) for c in overprovision_codes)\n",
    ")\n",
    "\n",
    "for url, codes in diffs_df.filter(expr).iter_rows():\n",
    "    print(url, codes)"
   ]
  },
  {
   "cell_type": "markdown",
   "metadata": {},
   "source": [
    "## AWS - Expensive DynamoDB"
   ]
  },
  {
   "cell_type": "code",
   "execution_count": 10,
   "metadata": {},
   "outputs": [],
   "source": [
    "dynamo_codes = [\n",
    "    'dynamo_on_demand',\n",
    "    'dynamo_reduce_rw_capacity',\n",
    "    'remove_dynamo_global_secondary_indices',\n",
    "]\n",
    "expr = reduce(\n",
    "    operator.or_,\n",
    "    (pl.col('codes').list.contains(c) for c in dynamo_codes)\n",
    ")"
   ]
  },
  {
   "cell_type": "markdown",
   "metadata": {},
   "source": [
    "## Expensive monitoring"
   ]
  },
  {
   "cell_type": "code",
   "execution_count": 11,
   "metadata": {},
   "outputs": [
    {
     "name": "stdout",
     "output_type": "stream",
     "text": [
      "https://github.com/Eximchain/terraform-aws-quorum-cluster/commit/6a56f400f7de3f4d5cef646d92e3f848608031c1 ['aws', 'remove_cloudwatch_metrics']\n",
      "https://github.com/Accurate0/infrastructure/commit/06889e08148d258f329118d43734f8c8dcff994e ['aws', 'remove_cloudwatch_logs']\n",
      "https://github.com/cloudspout/Gefjun/commit/665692a86bb65ddfa6c001f296c76c17288e2944 ['aws', 'remove_container_insights', 'reduce_cloudwatch_retention']\n",
      "https://github.com/terraform-google-modules/terraform-example-foundation/commit/8391f1bd4322fec04fda7509b537c5f66cddbbd9 ['gcp', 'remove_audit_logs']\n",
      "https://github.com/tdooner/flynn/commit/a9ea9d09727825f9a047e70d94caf73c99e6b2a8 ['aws', 'remove_status_check']\n",
      "https://github.com/elliotpryde/personal-infrastructure/commit/772c5ad20818738b09d01cd70ca3de80cbf66dcb ['aws', 'remove_status_check']\n",
      "https://github.com/elliotpryde/personal-infrastructure/commit/7c4205cd130c5463d7f39aa6f281e198c143d0d9 ['aws', 'remove_status_check']\n",
      "https://github.com/alghanmi/terraform-modules/commit/570d3d8440ed399ed8b30bffe1fd7a2adc197771 ['aws', 'remove_cloudfront_logs']\n",
      "https://github.com/thoughtbot/flightdeck/commit/c784bc0a3f747b66ab7cd01f23bbbdbad3bfe705 ['aws', 'remove_fluentbit_annotations', 'remove_fluentbit_labels']\n",
      "https://github.com/chapas/tf-az-kubernetes/commit/bcc6e190b8f8a12b590089fb755c4f552f179ad0 ['azure', 'remove_log_analytics']\n"
     ]
    }
   ],
   "source": [
    "monitoring_codes = [\n",
    "    'remove_status_check',\n",
    "    'remove_cloudwatch_metrics',\n",
    "    'remove_cloudwatch_logs',\n",
    "    'remove_log_analytics',\n",
    "    'remove_container_insights',\n",
    "    'reduce_cloudwatch_retention',\n",
    "    'remove_audit_logs',\n",
    "    'remove_cloudfront_logs',\n",
    "    'remove_fluentbit_annotations',\n",
    "    'remove_fluentbit_labels',\n",
    "]\n",
    "expr = reduce(\n",
    "    operator.or_,\n",
    "    (pl.col('codes').list.contains(c) for c in monitoring_codes)\n",
    ")\n",
    "\n",
    "for url, codes in diffs_df.filter(expr).iter_rows():\n",
    "    print(url, codes)"
   ]
  }
 ],
 "metadata": {
  "kernelspec": {
   "display_name": "venv",
   "language": "python",
   "name": "python3"
  },
  "language_info": {
   "codemirror_mode": {
    "name": "ipython",
    "version": 3
   },
   "file_extension": ".py",
   "mimetype": "text/x-python",
   "name": "python",
   "nbconvert_exporter": "python",
   "pygments_lexer": "ipython3",
   "version": "3.12.3"
  }
 },
 "nbformat": 4,
 "nbformat_minor": 2
}
