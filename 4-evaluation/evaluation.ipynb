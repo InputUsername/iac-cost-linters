{
 "cells": [
  {
   "cell_type": "code",
   "execution_count": 16,
   "metadata": {},
   "outputs": [],
   "source": [
    "import json\n",
    "import subprocess\n",
    "import os"
   ]
  },
  {
   "cell_type": "code",
   "execution_count": 17,
   "metadata": {},
   "outputs": [],
   "source": [
    "with open('../1-coding/diffs.json', 'r') as f:\n",
    "    diffs = json.load(f)"
   ]
  },
  {
   "cell_type": "code",
   "execution_count": 18,
   "metadata": {},
   "outputs": [],
   "source": [
    "CHECKOV_CHECKS = ','.join({'CKV_AWS_801', 'CKV_AWS_802', 'CKV_AWS_803'})"
   ]
  },
  {
   "cell_type": "code",
   "execution_count": 19,
   "metadata": {},
   "outputs": [
    {
     "name": "stdout",
     "output_type": "stream",
     "text": [
      "CompletedProcess(args=['checkov', '--evaluate-variables', 'True', '-d', 'snapshots/tkhoa2711-terraform-digitalocean-a86d89369aaf5a20c1e4d8415a8a771aa7de7d10/after/', '-c', 'CKV_AWS_803,CKV_AWS_801,CKV_AWS_802'], returncode=0, stdout=b\"\\n       _               _              \\n   ___| |__   ___  ___| | _______   __\\n  / __| '_ \\\\ / _ \\\\/ __| |/ / _ \\\\ \\\\ / /\\n | (__| | | |  __/ (__|   < (_) \\\\ V / \\n  \\\\___|_| |_|\\\\___|\\\\___|_|\\\\_\\\\___/ \\\\_/  \\n                                      \\nBy Prisma Cloud | version: 3.2.999 \\n\\n\\n\", stderr=b'')\n",
      "CompletedProcess(args=['checkov', '--evaluate-variables', 'True', '-d', 'snapshots/tkhoa2711-terraform-digitalocean-a86d89369aaf5a20c1e4d8415a8a771aa7de7d10/before-625a17182bd5b1770613a0606df75ebe7510af92/', '-c', 'CKV_AWS_803,CKV_AWS_801,CKV_AWS_802'], returncode=0, stdout=b\"\\n       _               _              \\n   ___| |__   ___  ___| | _______   __\\n  / __| '_ \\\\ / _ \\\\/ __| |/ / _ \\\\ \\\\ / /\\n | (__| | | |  __/ (__|   < (_) \\\\ V / \\n  \\\\___|_| |_|\\\\___|\\\\___|_|\\\\_\\\\___/ \\\\_/  \\n                                      \\nBy Prisma Cloud | version: 3.2.999 \\n\\n\\n\", stderr=b'')\n"
     ]
    }
   ],
   "source": [
    "stats = []\n",
    "\n",
    "for d in diffs:\n",
    "    _, _, _, owner, name, _, sha = d['url'].split('/')\n",
    "\n",
    "    snapshot_path = f'snapshots/{owner}-{name}-{sha}'\n",
    "\n",
    "    summary = {\n",
    "        'url': d['url'],\n",
    "        'before': [],\n",
    "    }\n",
    "\n",
    "    for version in os.listdir(snapshot_path):\n",
    "        version_path = f'{snapshot_path}/{version}/'\n",
    "\n",
    "        checkov_result = subprocess.run([\n",
    "            'checkov',\n",
    "            '--evaluate-variables', 'True',\n",
    "            '-d', version_path,\n",
    "            '-c', CHECKOV_CHECKS,\n",
    "        ], capture_output=True)\n",
    "\n",
    "        print(checkov_result)\n",
    "\n",
    "        if version == 'after':\n",
    "            summary['after'] = {\n",
    "                'return_code': checkov_result.returncode,\n",
    "                'stdout': checkov_result.stdout,\n",
    "                'stderr': checkov_result.stderr,\n",
    "            }\n",
    "        else:\n",
    "            summary['before'].append({\n",
    "                'return_code': checkov_result.returncode,\n",
    "                'stdout': checkov_result.stdout,\n",
    "                'stderr': checkov_result.stderr,\n",
    "            })\n",
    "\n",
    "        stats.append(summary)\n",
    "\n",
    "    break"
   ]
  },
  {
   "cell_type": "code",
   "execution_count": 20,
   "metadata": {},
   "outputs": [
    {
     "name": "stdout",
     "output_type": "stream",
     "text": [
      "shape: (2, 3)\n",
      "┌────────────────────────────────┬────────────────────────────────┬────────────────────────────────┐\n",
      "│ url                            ┆ before                         ┆ after                          │\n",
      "│ ---                            ┆ ---                            ┆ ---                            │\n",
      "│ str                            ┆ list[struct[3]]                ┆ struct[3]                      │\n",
      "╞════════════════════════════════╪════════════════════════════════╪════════════════════════════════╡\n",
      "│ https://github.com/tkhoa2711/t ┆ [{0,b\"\\x0a\\x20\\x20\\x20\\x20\\x20 ┆ {0,b\"\\x0a\\x20\\x20\\x20\\x20\\x20\\ │\n",
      "│ …                              ┆ …                              ┆ …                              │\n",
      "│ https://github.com/tkhoa2711/t ┆ [{0,b\"\\x0a\\x20\\x20\\x20\\x20\\x20 ┆ {0,b\"\\x0a\\x20\\x20\\x20\\x20\\x20\\ │\n",
      "│ …                              ┆ …                              ┆ …                              │\n",
      "└────────────────────────────────┴────────────────────────────────┴────────────────────────────────┘\n"
     ]
    }
   ],
   "source": [
    "import polars as pl\n",
    "\n",
    "df = pl.DataFrame(stats)\n",
    "\n",
    "print(df)"
   ]
  }
 ],
 "metadata": {
  "kernelspec": {
   "display_name": "venv",
   "language": "python",
   "name": "python3"
  },
  "language_info": {
   "codemirror_mode": {
    "name": "ipython",
    "version": 3
   },
   "file_extension": ".py",
   "mimetype": "text/x-python",
   "name": "python",
   "nbconvert_exporter": "python",
   "pygments_lexer": "ipython3",
   "version": "3.12.3"
  }
 },
 "nbformat": 4,
 "nbformat_minor": 2
}
