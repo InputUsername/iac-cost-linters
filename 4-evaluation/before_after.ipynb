{
 "cells": [
  {
   "cell_type": "markdown",
   "metadata": {},
   "source": [
    "# Get before/after snapshots of commits"
   ]
  },
  {
   "cell_type": "code",
   "execution_count": null,
   "metadata": {},
   "outputs": [],
   "source": [
    "import json\n",
    "import os\n",
    "import shutil\n",
    "from tempfile import TemporaryDirectory\n",
    "from time import sleep\n",
    "\n",
    "from git import Repo"
   ]
  },
  {
   "cell_type": "markdown",
   "metadata": {},
   "source": [
    "## Load dataset"
   ]
  },
  {
   "cell_type": "code",
   "execution_count": null,
   "metadata": {},
   "outputs": [],
   "source": [
    "with open('../1-coding/diffs.json', 'r') as f:\n",
    "    dataset = json.load(f)"
   ]
  },
  {
   "cell_type": "markdown",
   "metadata": {},
   "source": [
    "## Download before/after state"
   ]
  },
  {
   "cell_type": "code",
   "execution_count": null,
   "metadata": {},
   "outputs": [],
   "source": [
    "errors = dict()"
   ]
  },
  {
   "cell_type": "code",
   "execution_count": null,
   "metadata": {},
   "outputs": [],
   "source": [
    "for i, item in enumerate(dataset):\n",
    "    _, _, _, owner, name, _, sha = item['url'].split('/')\n",
    "    snapshot_path = f'snapshots/{owner}-{name}-{sha}'\n",
    "\n",
    "    if not os.path.exists(snapshot_path):\n",
    "        os.makedirs(snapshot_path)\n",
    "\n",
    "        print(f'snapshotting {owner}/{name} {sha}')\n",
    "    else:\n",
    "        print(f'{snapshot_path} exists')\n",
    "\n",
    "    with TemporaryDirectory() as tmpdir:\n",
    "        repo_url, sha = item['url'].split('/commit/')\n",
    "        repo_url += '.git'\n",
    "\n",
    "        try:\n",
    "            repo = Repo.clone_from(repo_url, tmpdir)\n",
    "\n",
    "            # snapshot state after latest commit\n",
    "\n",
    "            latest_path = f'{snapshot_path}/latest'\n",
    "            if not os.path.exists(latest_path):\n",
    "                shutil.copytree(tmpdir, latest_path, ignore=shutil.ignore_patterns('.git'))\n",
    "\n",
    "                print(f'* created {latest_path}')\n",
    "            else:\n",
    "                print(f'* {latest_path} exists')\n",
    "\n",
    "            # snapshot state after commit\n",
    "\n",
    "            after_path = f'{snapshot_path}/after'\n",
    "            if not os.path.exists(after_path):\n",
    "                repo.git.checkout(sha)\n",
    "                shutil.copytree(tmpdir, after_path, ignore=shutil.ignore_patterns('.git'))\n",
    "\n",
    "                print(f'* created {after_path}')\n",
    "            else:\n",
    "                print(f'* {after_path} exists')\n",
    "\n",
    "            # snapshot state before commit (parent commits)\n",
    "\n",
    "            commit = repo.commit(sha)\n",
    "            for parent in commit.parents:\n",
    "                before_path = f'{snapshot_path}/before-{parent.hexsha}'\n",
    "                if not os.path.exists(before_path):\n",
    "                    repo.git.checkout(parent.hexsha)\n",
    "                    shutil.copytree(tmpdir, before_path, ignore=shutil.ignore_patterns('.git'))\n",
    "\n",
    "                    print(f'* created {before_path}')\n",
    "                else:\n",
    "                    print(f'* {before_path} exists')\n",
    "        except Exception as e:\n",
    "            print(f'error for {item[\"url\"]}:', e)\n",
    "            errors[item['url']] = str(e)\n",
    "\n",
    "            with open('errors.json', 'w') as f:\n",
    "                json.dump(errors, f)\n",
    "\n",
    "    # if not os.path.exists(snapshot_path):\n",
    "    #     os.makedirs(snapshot_path)\n",
    "\n",
    "    #     print(f'snapshotting {owner}/{name} {sha}')\n",
    "\n",
    "    #     with TemporaryDirectory() as tmpdir:\n",
    "    #         repo_url, sha = item['url'].split('/commit/')\n",
    "    #         repo_url += '.git'\n",
    "\n",
    "    #         try:\n",
    "    #             repo = Repo.clone_from(repo_url, tmpdir)\n",
    "\n",
    "    #             repo.git.checkout(sha)\n",
    "    #             shutil.copytree(tmpdir, f'{snapshot_path}/after', ignore=shutil.ignore_patterns('.git'))\n",
    "\n",
    "    #             commit = repo.commit(sha)\n",
    "    #             for parent in commit.parents:\n",
    "    #                 repo.git.checkout(parent.hexsha)\n",
    "    #                 shutil.copytree(tmpdir, f'{snapshot_path}/before-{parent.hexsha}', ignore=shutil.ignore_patterns('.git'))\n",
    "    #         except Exception as e:\n",
    "    #             print(f'error for {item[\"url\"]}:', e)\n",
    "    #             errors[item['url']] = str(e)\n",
    "\n",
    "    #             shutil.rmtree(snapshot_path)\n",
    "\n",
    "    #             with open('errors.json', 'w') as f:\n",
    "    #                 json.dump(errors, f)\n",
    "\n",
    "    # else:\n",
    "    #     print(f'{snapshot_path} exists')\n",
    "\n",
    "    if (i+1) % 10 == 0:\n",
    "        print(f'-----\\n{i+1}/{len(dataset)} commits processed\\n------')\n",
    "\n",
    "        sleep(30)"
   ]
  }
 ],
 "metadata": {
  "kernelspec": {
   "display_name": "venv",
   "language": "python",
   "name": "python3"
  },
  "language_info": {
   "codemirror_mode": {
    "name": "ipython",
    "version": 3
   },
   "file_extension": ".py",
   "mimetype": "text/x-python",
   "name": "python",
   "nbconvert_exporter": "python",
   "pygments_lexer": "ipython3",
   "version": "3.12.4"
  }
 },
 "nbformat": 4,
 "nbformat_minor": 2
}
