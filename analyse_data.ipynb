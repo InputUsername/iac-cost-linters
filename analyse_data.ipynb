{
 "cells": [
  {
   "cell_type": "markdown",
   "metadata": {},
   "source": [
    "# Analysis"
   ]
  },
  {
   "cell_type": "code",
   "execution_count": 16,
   "metadata": {},
   "outputs": [],
   "source": [
    "import json\n",
    "\n",
    "with open('diffs.json', 'r') as f:\n",
    "    diffs = json.load(f)\n",
    "\n",
    "with open('codes.json', 'r') as cf:\n",
    "    codes = json.load(cf)"
   ]
  },
  {
   "cell_type": "markdown",
   "metadata": {},
   "source": [
    "## Dataset"
   ]
  },
  {
   "cell_type": "code",
   "execution_count": 17,
   "metadata": {},
   "outputs": [
    {
     "name": "stdout",
     "output_type": "stream",
     "text": [
      "retrieved commits: 499/538 (92.75%)\n",
      "originally coded with `saving`: 342/499 (68.54%)\n",
      "processed commits: 490/499 (98.20%)\n",
      "processed commits originally coded with `saving`: 336/342 (98.25%)\n",
      "commits coded with `not_relevant`: 177/490 (35.47%)\n",
      "files affected (avg): 4.42\n"
     ]
    }
   ],
   "source": [
    "TOTAL = 538\n",
    "retrieved = len(diffs)\n",
    "with_saving = len([d for d in diffs if 'saving' in d['existing_codes']])\n",
    "print('retrieved commits:', f'{retrieved}/{TOTAL}', f'({retrieved/TOTAL*100:.2f}%)')\n",
    "print('originally coded with `saving`:', f'{with_saving}/{retrieved}', f'({with_saving/retrieved*100:.2f}%)')\n",
    "\n",
    "n_processed = sum(len(d['codes']) != 0 for d in diffs)\n",
    "n_processed_with_saving = sum(len(d['codes']) != 0 and 'saving' in d['existing_codes'] for d in diffs)\n",
    "print('processed commits:', f'{n_processed}/{retrieved}', f'({n_processed/retrieved*100:.2f}%)')\n",
    "print('processed commits originally coded with `saving`:', f'{n_processed_with_saving}/{with_saving}', f'({n_processed_with_saving/with_saving*100:.2f}%)')\n",
    "\n",
    "not_relevant = sum('not_relevant' in d['codes'] for d in diffs)\n",
    "print('commits coded with `not_relevant`:', f'{not_relevant}/{n_processed}', f'({not_relevant/retrieved*100:.2f}%)')\n",
    "\n",
    "avg_files = sum(len(d['files']) for d in diffs) / len(diffs)\n",
    "print('files affected (avg):', f'{avg_files:.2f}')"
   ]
  },
  {
   "cell_type": "markdown",
   "metadata": {},
   "source": [
    "## Codes"
   ]
  },
  {
   "cell_type": "code",
   "execution_count": 18,
   "metadata": {},
   "outputs": [
    {
     "name": "stdout",
     "output_type": "stream",
     "text": [
      "shape: (122, 4)\n",
      "┌─────────────────────────────┬───────────────────────────────────┬───────┬────────────┐\n",
      "│ name                        ┆ description                       ┆ count ┆ percentage │\n",
      "│ ---                         ┆ ---                               ┆ ---   ┆ ---        │\n",
      "│ str                         ┆ str                               ┆ i32   ┆ f64        │\n",
      "╞═════════════════════════════╪═══════════════════════════════════╪═══════╪════════════╡\n",
      "│ aws                         ┆ Specific to Amazon Web Services   ┆ 356   ┆ 72.653061  │\n",
      "│ not_relevant                ┆ The commit contents do not refle… ┆ 177   ┆ 36.122449  │\n",
      "│ cheaper_instance            ┆ Use a cheaper compute instance    ┆ 73    ┆ 14.897959  │\n",
      "│ gcp                         ┆ Specific to Google Cloud Platfor… ┆ 63    ┆ 12.857143  │\n",
      "│ azure                       ┆ Specific to Azure                 ┆ 51    ┆ 10.408163  │\n",
      "│ …                           ┆ …                                 ┆ …     ┆ …          │\n",
      "│ remove_transit_gateway      ┆ Stop using a transit gateway      ┆ 1     ┆ 0.204082   │\n",
      "│ remove_sns_alarm            ┆ Stop using SNS alarms             ┆ 1     ┆ 0.204082   │\n",
      "│ remove_guard_duty           ┆ Stop using GuardDuty              ┆ 1     ┆ 0.204082   │\n",
      "│ use_standard_sql_db_edition ┆ Use Standard edition for an SQL … ┆ 1     ┆ 0.204082   │\n",
      "│ cheaper_service_objective   ┆ Use a cheaper service objective … ┆ 1     ┆ 0.204082   │\n",
      "└─────────────────────────────┴───────────────────────────────────┴───────┴────────────┘\n"
     ]
    }
   ],
   "source": [
    "import polars as pl\n",
    "\n",
    "codes_df = pl.DataFrame(codes) \\\n",
    "            .with_columns(count=sum(pl.col('name').is_in(d['codes']) for d in diffs)) \\\n",
    "            .with_columns(percentage=pl.col('count') / n_processed * 100) \\\n",
    "            .sort(by=pl.col('count'), descending=True)\n",
    "\n",
    "print(codes_df)\n",
    "\n",
    "codes_df.drop(\"percentage\").write_csv(\"codes.csv\")"
   ]
  },
  {
   "cell_type": "markdown",
   "metadata": {},
   "source": [
    "### Cloud-specific Codes"
   ]
  },
  {
   "cell_type": "code",
   "execution_count": 19,
   "metadata": {},
   "outputs": [
    {
     "name": "stdout",
     "output_type": "stream",
     "text": [
      "shape: (10, 3)\n",
      "┌──────────────┬───────┬────────────┐\n",
      "│ name         ┆ count ┆ percentage │\n",
      "│ ---          ┆ ---   ┆ ---        │\n",
      "│ str          ┆ i32   ┆ f64        │\n",
      "╞══════════════╪═══════╪════════════╡\n",
      "│ aws          ┆ 356   ┆ 72.653061  │\n",
      "│ gcp          ┆ 63    ┆ 12.857143  │\n",
      "│ azure        ┆ 51    ┆ 10.408163  │\n",
      "│ digitalocean ┆ 12    ┆ 2.44898    │\n",
      "│ scaleway     ┆ 3     ┆ 0.612245   │\n",
      "│ hcloud       ┆ 2     ┆ 0.408163   │\n",
      "│ ibm          ┆ 2     ┆ 0.408163   │\n",
      "│ oracle       ┆ 2     ┆ 0.408163   │\n",
      "│ alicloud     ┆ 1     ┆ 0.204082   │\n",
      "│ ovh          ┆ 1     ┆ 0.204082   │\n",
      "└──────────────┴───────┴────────────┘\n"
     ]
    }
   ],
   "source": [
    "clouds = {'digitalocean', 'aws', 'gcp', 'azure', 'alicloud', 'scaleway', 'hcloud', 'ibm', 'oracle', 'ovh'}\n",
    "print(codes_df.filter(pl.col('name').is_in(clouds)).drop('description'))"
   ]
  },
  {
   "cell_type": "markdown",
   "metadata": {},
   "source": [
    "### Uniqueness\n",
    "\n",
    "Determine how many unique owners the code occurs for, to see if there is actually a pattern across developers/organizations."
   ]
  },
  {
   "cell_type": "code",
   "execution_count": 29,
   "metadata": {},
   "outputs": [
    {
     "name": "stdout",
     "output_type": "stream",
     "text": [
      "number of unique owners: 352\n",
      "shape: (41, 3)\n",
      "┌────────────────────────────┬───────────────────────────────────┬──────────┐\n",
      "│ name                       ┆ owners                            ┆ n_owners │\n",
      "│ ---                        ┆ ---                               ┆ ---      │\n",
      "│ str                        ┆ list[str]                         ┆ u32      │\n",
      "╞════════════════════════════╪═══════════════════════════════════╪══════════╡\n",
      "│ not_relevant               ┆ [\"stuartsan\", \"picatz\", … \"jsnid… ┆ 122      │\n",
      "│ cheaper_instance           ┆ [\"yardbirdsax\", \"deadlysyn\", … \"… ┆ 61       │\n",
      "│ new_gen                    ┆ [\"yardbirdsax\", \"dwp\", … \"kmishr… ┆ 25       │\n",
      "│ dynamo_on_demand           ┆ [\"MichaelDeCorte\", \"jenkins-x\", … ┆ 19       │\n",
      "│ remove_nat_gateway         ┆ [\"CheesecakeLabs\", \"joshuaspence… ┆ 18       │\n",
      "│ …                          ┆ …                                 ┆ …        │\n",
      "│ reduce_node_count          ┆ [\"giantswarm\", \"armand1m\"]        ┆ 2        │\n",
      "│ remove_status_check        ┆ [\"elliotpryde\", \"tdooner\"]        ┆ 2        │\n",
      "│ cheaper_container_registry ┆ [\"hazelops\", \"rjmco\"]             ┆ 2        │\n",
      "│ reduce_eip                 ┆ [\"stSoftwareAU\", \"simplygenius\"]  ┆ 2        │\n",
      "│ use_default_kms_key        ┆ [\"thatscotdatasci\", \"jonbamber\"]  ┆ 2        │\n",
      "└────────────────────────────┴───────────────────────────────────┴──────────┘\n"
     ]
    }
   ],
   "source": [
    "def repo_owner(diff: dict[str, str]) -> str:\n",
    "    _, _, _, owner, *_ = diff['url'].split('/')\n",
    "    return owner\n",
    "\n",
    "n_owners = len(set(repo_owner(d) for d in diffs))\n",
    "print('number of unique owners:', n_owners)\n",
    "\n",
    "owners = [\n",
    "    {\n",
    "        'name': c['name'],\n",
    "        'owners': list(set(repo_owner(d) for d in diffs if c['name'] in d['codes']))\n",
    "    }\n",
    "    for c in codes\n",
    "]\n",
    "owners_df = pl.DataFrame(owners) \\\n",
    "                .with_columns(n_owners=pl.col('owners').list.len()) \\\n",
    "                .sort(by=pl.col('n_owners'), descending=True)\n",
    "\n",
    "filtered = owners_df.filter(pl.col('name').is_in(clouds).not_()).filter(pl.col('n_owners') >= 2)\n",
    "\n",
    "print(filtered)\n",
    "\n",
    "#filtered.drop('owners').write_csv('unique_owners.csv')"
   ]
  },
  {
   "cell_type": "markdown",
   "metadata": {},
   "source": [
    "### Undefined codes\n",
    "\n",
    "List codes which are attached to commits but not defined in `codes.json`."
   ]
  },
  {
   "cell_type": "code",
   "execution_count": 21,
   "metadata": {},
   "outputs": [],
   "source": [
    "listed_codes = set(c['name'] for c in codes)\n",
    "for d in diffs:\n",
    "    for c in d['codes']:\n",
    "        if c not in listed_codes:\n",
    "            print(f'{c} is not listed')"
   ]
  }
 ],
 "metadata": {
  "kernelspec": {
   "display_name": "venv",
   "language": "python",
   "name": "python3"
  },
  "language_info": {
   "codemirror_mode": {
    "name": "ipython",
    "version": 3
   },
   "file_extension": ".py",
   "mimetype": "text/x-python",
   "name": "python",
   "nbconvert_exporter": "python",
   "pygments_lexer": "ipython3",
   "version": "3.12.2"
  }
 },
 "nbformat": 4,
 "nbformat_minor": 2
}
