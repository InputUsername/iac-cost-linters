{
 "cells": [
  {
   "cell_type": "markdown",
   "metadata": {},
   "source": [
    "# Analysis"
   ]
  },
  {
   "cell_type": "code",
   "execution_count": 133,
   "metadata": {},
   "outputs": [],
   "source": [
    "import json\n",
    "\n",
    "with open('diffs.json', 'r') as f:\n",
    "    diffs = json.load(f)\n",
    "\n",
    "with open('codes.json', 'r') as cf:\n",
    "    codes = json.load(cf)"
   ]
  },
  {
   "cell_type": "markdown",
   "metadata": {},
   "source": [
    "## Dataset"
   ]
  },
  {
   "cell_type": "code",
   "execution_count": 134,
   "metadata": {},
   "outputs": [
    {
     "name": "stdout",
     "output_type": "stream",
     "text": [
      "retrieved commits: 499/538 (92.75%)\n",
      "originally coded with `saving`: 342/499 (68.54%)\n",
      "processed commits: 490/499 (98.20%)\n",
      "processed commits coded with `saving`: 336/342 (98.25%)\n",
      "files affected (avg): 4.42\n"
     ]
    }
   ],
   "source": [
    "TOTAL = 538\n",
    "retrieved = len(diffs)\n",
    "with_saving = len([d for d in diffs if 'saving' in d['existing_codes']])\n",
    "print('retrieved commits:', f'{retrieved}/{TOTAL}', f'({retrieved/TOTAL*100:.2f}%)')\n",
    "print('originally coded with `saving`:', f'{with_saving}/{retrieved}', f'({with_saving/retrieved*100:.2f}%)')\n",
    "\n",
    "n_processed = sum(len(d['codes']) != 0 for d in diffs)\n",
    "print('processed commits:', f'{n_processed}/{retrieved}', f'({n_processed/retrieved*100:.2f}%)')\n",
    "n_processed_with_saving = sum(len(d['codes']) != 0 and 'saving' in d['existing_codes'] for d in diffs)\n",
    "print('processed commits coded with `saving`:', f'{n_processed_with_saving}/{with_saving}', f'({n_processed_with_saving/with_saving*100:.2f}%)')\n",
    "\n",
    "avg_files = sum(len(d['files']) for d in diffs) / len(diffs)\n",
    "print('files affected (avg):', f'{avg_files:.2f}')"
   ]
  },
  {
   "cell_type": "markdown",
   "metadata": {},
   "source": [
    "## Codes"
   ]
  },
  {
   "cell_type": "code",
   "execution_count": 135,
   "metadata": {},
   "outputs": [
    {
     "name": "stdout",
     "output_type": "stream",
     "text": [
      "shape: (119, 4)\n",
      "┌───────────────────────────┬───────────────────────────────────┬───────┬────────────┐\n",
      "│ name                      ┆ description                       ┆ count ┆ percentage │\n",
      "│ ---                       ┆ ---                               ┆ ---   ┆ ---        │\n",
      "│ str                       ┆ str                               ┆ i32   ┆ f64        │\n",
      "╞═══════════════════════════╪═══════════════════════════════════╪═══════╪════════════╡\n",
      "│ aws                       ┆ Specific to Amazon Web Services   ┆ 356   ┆ 72.653061  │\n",
      "│ not_relevant              ┆ The commit contents do not refle… ┆ 177   ┆ 36.122449  │\n",
      "│ cheaper_instance          ┆ Use a cheaper compute instance    ┆ 73    ┆ 14.897959  │\n",
      "│ gcp                       ┆ Specific to Google Cloud Platfor… ┆ 63    ┆ 12.857143  │\n",
      "│ azure                     ┆ Specific to Azure                 ┆ 51    ┆ 10.408163  │\n",
      "│ …                         ┆ …                                 ┆ …     ┆ …          │\n",
      "│ cheaper_codebuild_compute ┆ Use cheaper compute for CodeBuil… ┆ 1     ┆ 0.204082   │\n",
      "│ reduce_nlb                ┆ Reduce the number of network loa… ┆ 1     ┆ 0.204082   │\n",
      "│ use_mssql_serverless      ┆ Use serverless SKU type for MSSQ… ┆ 1     ┆ 0.204082   │\n",
      "│ remove_transit_gateway    ┆ Stop using a transit gateway      ┆ 1     ┆ 0.204082   │\n",
      "│ remove_sns_alarm          ┆ Stop using SNS alarms             ┆ 1     ┆ 0.204082   │\n",
      "└───────────────────────────┴───────────────────────────────────┴───────┴────────────┘\n"
     ]
    }
   ],
   "source": [
    "import polars as pl\n",
    "\n",
    "df = pl.DataFrame(codes) \\\n",
    "        .with_columns(count=sum(pl.col('name').is_in(d['codes']) for d in diffs)) \\\n",
    "        .with_columns(percentage=pl.col('count') / n_processed * 100) \\\n",
    "        .sort(by=pl.col('count'), descending=True)\n",
    "\n",
    "print(df)"
   ]
  },
  {
   "cell_type": "markdown",
   "metadata": {},
   "source": [
    "### Cloud-specific Codes"
   ]
  },
  {
   "cell_type": "code",
   "execution_count": 136,
   "metadata": {},
   "outputs": [
    {
     "name": "stdout",
     "output_type": "stream",
     "text": [
      "shape: (10, 3)\n",
      "┌──────────────┬───────┬────────────┐\n",
      "│ name         ┆ count ┆ percentage │\n",
      "│ ---          ┆ ---   ┆ ---        │\n",
      "│ str          ┆ i32   ┆ f64        │\n",
      "╞══════════════╪═══════╪════════════╡\n",
      "│ aws          ┆ 356   ┆ 72.653061  │\n",
      "│ gcp          ┆ 63    ┆ 12.857143  │\n",
      "│ azure        ┆ 51    ┆ 10.408163  │\n",
      "│ digitalocean ┆ 12    ┆ 2.44898    │\n",
      "│ scaleway     ┆ 3     ┆ 0.612245   │\n",
      "│ hcloud       ┆ 2     ┆ 0.408163   │\n",
      "│ ibm          ┆ 2     ┆ 0.408163   │\n",
      "│ oracle       ┆ 2     ┆ 0.408163   │\n",
      "│ alicloud     ┆ 1     ┆ 0.204082   │\n",
      "│ ovh          ┆ 1     ┆ 0.204082   │\n",
      "└──────────────┴───────┴────────────┘\n"
     ]
    }
   ],
   "source": [
    "clouds = {'digitalocean', 'aws', 'gcp', 'azure', 'alicloud', 'scaleway', 'hcloud', 'ibm', 'oracle', 'ovh'}\n",
    "print(df.filter(pl.col('name').is_in(clouds)).drop('description'))"
   ]
  },
  {
   "cell_type": "markdown",
   "metadata": {},
   "source": [
    "### Undefined codes\n",
    "\n",
    "List codes which are attached to commits but not defined in `codes.json`."
   ]
  },
  {
   "cell_type": "code",
   "execution_count": 137,
   "metadata": {},
   "outputs": [
    {
     "name": "stdout",
     "output_type": "stream",
     "text": [
      "remove_guard_duty is not listed\n",
      "use_standard_sql_db_edition is not listed\n",
      "cheaper_service_objective is not listed\n"
     ]
    }
   ],
   "source": [
    "listed_codes = set(c['name'] for c in codes)\n",
    "for d in diffs:\n",
    "    for c in d['codes']:\n",
    "        if c not in listed_codes:\n",
    "            print(f'{c} is not listed')"
   ]
  }
 ],
 "metadata": {
  "kernelspec": {
   "display_name": "venv",
   "language": "python",
   "name": "python3"
  },
  "language_info": {
   "codemirror_mode": {
    "name": "ipython",
    "version": 3
   },
   "file_extension": ".py",
   "mimetype": "text/x-python",
   "name": "python",
   "nbconvert_exporter": "python",
   "pygments_lexer": "ipython3",
   "version": "3.12.2"
  }
 },
 "nbformat": 4,
 "nbformat_minor": 2
}
