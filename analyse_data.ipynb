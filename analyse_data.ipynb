{
 "cells": [
  {
   "cell_type": "markdown",
   "metadata": {},
   "source": [
    "# Analysis"
   ]
  },
  {
   "cell_type": "code",
   "execution_count": 46,
   "metadata": {},
   "outputs": [],
   "source": [
    "import json\n",
    "\n",
    "with open('diffs.json', 'r') as f:\n",
    "    diffs = json.load(f)\n",
    "\n",
    "with open('codes.json', 'r') as cf:\n",
    "    codes = json.load(cf)"
   ]
  },
  {
   "cell_type": "markdown",
   "metadata": {},
   "source": [
    "## Dataset"
   ]
  },
  {
   "cell_type": "code",
   "execution_count": 47,
   "metadata": {},
   "outputs": [
    {
     "name": "stdout",
     "output_type": "stream",
     "text": [
      "retrieved commits: 499/538 (92.75%)\n",
      "originally coded with `saving`: 342/499 (68.54%)\n",
      "processed commits: 452/499 (90.58%)\n",
      "processed commits coded with `saving`: 322/342 (94.15%)\n",
      "files affected (avg): 4.42\n"
     ]
    }
   ],
   "source": [
    "TOTAL = 538\n",
    "retrieved = len(diffs)\n",
    "with_saving = len([d for d in diffs if 'saving' in d['existing_codes']])\n",
    "print('retrieved commits:', f'{retrieved}/{TOTAL}', f'({retrieved/TOTAL*100:.2f}%)')\n",
    "print('originally coded with `saving`:', f'{with_saving}/{retrieved}', f'({with_saving/retrieved*100:.2f}%)')\n",
    "\n",
    "n_processed = sum(len(d['codes']) != 0 for d in diffs)\n",
    "print('processed commits:', f'{n_processed}/{retrieved}', f'({n_processed/retrieved*100:.2f}%)')\n",
    "n_processed_with_saving = sum(len(d['codes']) != 0 and 'saving' in d['existing_codes'] for d in diffs)\n",
    "print('processed commits coded with `saving`:', f'{n_processed_with_saving}/{with_saving}', f'({n_processed_with_saving/with_saving*100:.2f}%)')\n",
    "\n",
    "avg_files = sum(len(d['files']) for d in diffs) / len(diffs)\n",
    "print('files affected (avg):', f'{avg_files:.2f}')"
   ]
  },
  {
   "cell_type": "markdown",
   "metadata": {},
   "source": [
    "## Codes"
   ]
  },
  {
   "cell_type": "code",
   "execution_count": 48,
   "metadata": {},
   "outputs": [
    {
     "name": "stdout",
     "output_type": "stream",
     "text": [
      "shape: (112, 4)\n",
      "┌───────────────────────────────────┬───────────────────────────────────┬───────┬────────────┐\n",
      "│ name                              ┆ description                       ┆ count ┆ percentage │\n",
      "│ ---                               ┆ ---                               ┆ ---   ┆ ---        │\n",
      "│ str                               ┆ str                               ┆ i32   ┆ f64        │\n",
      "╞═══════════════════════════════════╪═══════════════════════════════════╪═══════╪════════════╡\n",
      "│ aws                               ┆ Specific to Amazon Web Services   ┆ 328   ┆ 72.566372  │\n",
      "│ not_relevant                      ┆ The commit contents do not refle… ┆ 158   ┆ 34.955752  │\n",
      "│ cheaper_instance                  ┆ Use a cheaper compute instance    ┆ 70    ┆ 15.486726  │\n",
      "│ gcp                               ┆ Specific to Google Cloud Platfor… ┆ 57    ┆ 12.610619  │\n",
      "│ azure                             ┆ Specific to Azure                 ┆ 46    ┆ 10.176991  │\n",
      "│ …                                 ┆ …                                 ┆ …     ┆ …          │\n",
      "│ add_consumption_budget_resource_… ┆ Add a consumption budget for a r… ┆ 1     ┆ 0.221239   │\n",
      "│ use_bucket_key                    ┆ Use S3 Bucket Keys for SSE-KMS    ┆ 1     ┆ 0.221239   │\n",
      "│ remove_fluentbit_annotations      ┆ Disable annotations in Fluent Bi… ┆ 1     ┆ 0.221239   │\n",
      "│ remove_fluentbit_labels           ┆ Disable labels in Fluent Bit log… ┆ 1     ┆ 0.221239   │\n",
      "│ use_mssql_vm_payg                 ┆ Use PAYG SQL license type for MS… ┆ 1     ┆ 0.221239   │\n",
      "└───────────────────────────────────┴───────────────────────────────────┴───────┴────────────┘\n"
     ]
    }
   ],
   "source": [
    "import polars as pl\n",
    "\n",
    "df = pl.DataFrame(codes) \\\n",
    "        .with_columns(count=sum(pl.col('name').is_in(d['codes']) for d in diffs)) \\\n",
    "        .with_columns(percentage=pl.col('count') / n_processed * 100) \\\n",
    "        .sort(by=pl.col('count'), descending=True)\n",
    "\n",
    "print(df)"
   ]
  },
  {
   "cell_type": "markdown",
   "metadata": {},
   "source": [
    "### Cloud-specific Codes"
   ]
  },
  {
   "cell_type": "code",
   "execution_count": 49,
   "metadata": {},
   "outputs": [
    {
     "name": "stdout",
     "output_type": "stream",
     "text": [
      "shape: (10, 3)\n",
      "┌──────────────┬───────┬────────────┐\n",
      "│ name         ┆ count ┆ percentage │\n",
      "│ ---          ┆ ---   ┆ ---        │\n",
      "│ str          ┆ i32   ┆ f64        │\n",
      "╞══════════════╪═══════╪════════════╡\n",
      "│ aws          ┆ 328   ┆ 72.566372  │\n",
      "│ gcp          ┆ 57    ┆ 12.610619  │\n",
      "│ azure        ┆ 46    ┆ 10.176991  │\n",
      "│ digitalocean ┆ 12    ┆ 2.654867   │\n",
      "│ scaleway     ┆ 2     ┆ 0.442478   │\n",
      "│ ibm          ┆ 2     ┆ 0.442478   │\n",
      "│ oracle       ┆ 2     ┆ 0.442478   │\n",
      "│ alicloud     ┆ 1     ┆ 0.221239   │\n",
      "│ hcloud       ┆ 1     ┆ 0.221239   │\n",
      "│ ovh          ┆ 1     ┆ 0.221239   │\n",
      "└──────────────┴───────┴────────────┘\n"
     ]
    }
   ],
   "source": [
    "clouds = {'digitalocean', 'aws', 'gcp', 'azure', 'alicloud', 'scaleway', 'hcloud', 'ibm', 'oracle', 'ovh'}\n",
    "print(df.filter(pl.col('name').is_in(clouds)).drop('description'))"
   ]
  },
  {
   "cell_type": "markdown",
   "metadata": {},
   "source": [
    "### Undefined codes\n",
    "\n",
    "List codes which are attached to commits but not defined in `codes.json`."
   ]
  },
  {
   "cell_type": "code",
   "execution_count": 50,
   "metadata": {},
   "outputs": [],
   "source": [
    "listed_codes = set(c['name'] for c in codes)\n",
    "for d in diffs:\n",
    "    for c in d['codes']:\n",
    "        if c not in listed_codes:\n",
    "            print(f'{c} is not listed')"
   ]
  }
 ],
 "metadata": {
  "kernelspec": {
   "display_name": "venv",
   "language": "python",
   "name": "python3"
  },
  "language_info": {
   "codemirror_mode": {
    "name": "ipython",
    "version": 3
   },
   "file_extension": ".py",
   "mimetype": "text/x-python",
   "name": "python",
   "nbconvert_exporter": "python",
   "pygments_lexer": "ipython3",
   "version": "3.12.2"
  }
 },
 "nbformat": 4,
 "nbformat_minor": 2
}
