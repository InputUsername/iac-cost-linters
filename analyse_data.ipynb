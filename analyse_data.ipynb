{
 "cells": [
  {
   "cell_type": "markdown",
   "metadata": {},
   "source": [
    "# Analysis"
   ]
  },
  {
   "cell_type": "code",
   "execution_count": 136,
   "metadata": {},
   "outputs": [],
   "source": [
    "import json\n",
    "\n",
    "with open('diffs.json', 'r') as f:\n",
    "    diffs = json.load(f)\n",
    "\n",
    "with open('codes.json', 'r') as cf:\n",
    "    codes = json.load(cf)"
   ]
  },
  {
   "cell_type": "markdown",
   "metadata": {},
   "source": [
    "## Dataset"
   ]
  },
  {
   "cell_type": "code",
   "execution_count": 137,
   "metadata": {},
   "outputs": [
    {
     "name": "stdout",
     "output_type": "stream",
     "text": [
      "retrieved commits: 499/538 (92.75%)\n",
      "originally coded with `saving`: 342/499 (68.54%)\n",
      "processed commits: 293/499 (58.72%)\n",
      "files affected (avg): 4.42\n"
     ]
    }
   ],
   "source": [
    "TOTAL = 538\n",
    "retrieved = len(diffs)\n",
    "with_saving = len([d for d in diffs if 'saving' in d['existing_codes']])\n",
    "print('retrieved commits:', f'{retrieved}/{TOTAL}', f'({retrieved/TOTAL*100:.2f}%)')\n",
    "print('originally coded with `saving`:', f'{with_saving}/{retrieved}', f'({with_saving/retrieved*100:.2f}%)')\n",
    "\n",
    "n_processed = sum(len(d[\"codes\"]) != 0 for d in diffs)\n",
    "print('processed commits:', f'{n_processed}/{retrieved}', f'({n_processed/retrieved*100:.2f}%)')\n",
    "\n",
    "avg_files = sum(len(d['files']) for d in diffs) / len(diffs)\n",
    "print('files affected (avg):', f'{avg_files:.2f}')"
   ]
  },
  {
   "cell_type": "markdown",
   "metadata": {},
   "source": [
    "## Codes"
   ]
  },
  {
   "cell_type": "code",
   "execution_count": 138,
   "metadata": {},
   "outputs": [
    {
     "name": "stdout",
     "output_type": "stream",
     "text": [
      "codes: 86\n",
      "not_relevant                              75 (25.60%)\n",
      "digitalocean                               9 ( 3.07%)\n",
      "aws                                      214 (73.04%)\n",
      "gcp                                       39 (13.31%)\n",
      "azure                                     26 ( 8.87%)\n",
      "alicloud                                   1 ( 0.34%)\n",
      "scaleway                                   2 ( 0.68%)\n",
      "hcloud                                     1 ( 0.34%)\n",
      "ibm                                        1 ( 0.34%)\n",
      "smaller_disk                               9 ( 3.07%)\n",
      "cheaper_disk_type                          6 ( 2.05%)\n",
      "remove_loadbalancer                        3 ( 1.02%)\n",
      "cheaper_instance                          64 (21.84%)\n",
      "new_gen                                   31 (10.58%)\n",
      "remove_dataflow                            1 ( 0.34%)\n",
      "reduce_subnets                             1 ( 0.34%)\n",
      "remove_nat                                 5 ( 1.71%)\n",
      "add_lifecycle_rule                         6 ( 2.05%)\n",
      "cheaper_volume                            14 ( 4.78%)\n",
      "reduce_nat_gateways                        3 ( 1.02%)\n",
      "remove_nat_gateway                        19 ( 6.48%)\n",
      "remove_eks                                 1 ( 0.34%)\n",
      "add_preemptible                            2 ( 0.68%)\n",
      "reduce_vpc_endpoint_subnets                1 ( 0.34%)\n",
      "remove_iops                                2 ( 0.68%)\n",
      "cheaper_redis_cache                        1 ( 0.34%)\n",
      "cheaper_os                                 4 ( 1.37%)\n",
      "reduce_az                                  2 ( 0.68%)\n",
      "remove_iam                                 1 ( 0.34%)\n",
      "use_global_loadbalancing                   2 ( 0.68%)\n",
      "remove_private_subnet                      6 ( 2.05%)\n",
      "use_spot_fleet                             2 ( 0.68%)\n",
      "remove_vpn                                 1 ( 0.34%)\n",
      "remove_gcp                                 2 ( 0.68%)\n",
      "dynamo_on_demand                          10 ( 3.41%)\n",
      "remove_dynamo_global_secondary_indices     1 ( 0.34%)\n",
      "use_spot_instance                          5 ( 1.71%)\n",
      "remove_firewall                            1 ( 0.34%)\n",
      "remove_cloudwatch_metrics                  1 ( 0.34%)\n",
      "cheaper_image                              1 ( 0.34%)\n",
      "remove_cloudwatch_logs                     1 ( 0.34%)\n",
      "cheaper_area                               5 ( 1.71%)\n",
      "cheaper_rds_cluster                        1 ( 0.34%)\n",
      "lambda_less_memory                         1 ( 0.34%)\n",
      "auto_stop_1h                               1 ( 0.34%)\n",
      "remove_eip                                 5 ( 1.71%)\n",
      "less_cpu_cores                             1 ( 0.34%)\n",
      "less_memory                                4 ( 1.37%)\n",
      "use_single_instance_aurora                 1 ( 0.34%)\n",
      "cheaper_provider                           3 ( 1.02%)\n",
      "use_alb                                    1 ( 0.34%)\n",
      "add_placement_strategy                     1 ( 0.34%)\n",
      "add_s3_vpc_endpoint                        2 ( 0.68%)\n",
      "remove_route_table                         1 ( 0.34%)\n",
      "remove_route                               1 ( 0.34%)\n",
      "reduce_cloudfront_cache_allowed_methods    1 ( 0.34%)\n",
      "reduce_node_pools                          1 ( 0.34%)\n",
      "cheaper_service_plan                       1 ( 0.34%)\n",
      "add_iam_policy                             1 ( 0.34%)\n",
      "nat_host_custom_machine_type               1 ( 0.34%)\n",
      "dynamo_reduce_rw_capacity                  5 ( 1.71%)\n",
      "reduce_rds_capacity                        1 ( 0.34%)\n",
      "remove_audit_logs                          1 ( 0.34%)\n",
      "use_same_az_public_private_subnet          1 ( 0.34%)\n",
      "less_cpu                                   2 ( 0.68%)\n",
      "use_fargate_spot_capacity_provider         1 ( 0.34%)\n",
      "remove_dns_zones                           2 ( 0.68%)\n",
      "reduce_iops                                1 ( 0.34%)\n",
      "remove_ssm_endpoint                        2 ( 0.68%)\n",
      "reduce_node_count                          1 ( 0.34%)\n",
      "remove_status_check                        3 ( 1.02%)\n",
      "cheaper_container_registry                 2 ( 0.68%)\n",
      "explicit_value                             3 ( 1.02%)\n",
      "expressroute_local_tier                    2 ( 0.68%)\n",
      "ebs_delete_on_termination                  1 ( 0.34%)\n",
      "smaller_image                              1 ( 0.34%)\n",
      "remove_container_registry                  1 ( 0.34%)\n",
      "remove_glacier_transition                  1 ( 0.34%)\n",
      "remove_cloudfront_logs                     1 ( 0.34%)\n",
      "remove_dataflow_job                        1 ( 0.34%)\n",
      "reduce_s3_expiration                       1 ( 0.34%)\n",
      "reduce_instance_count                      3 ( 1.02%)\n",
      "remove_node_pool_autoscaling               1 ( 0.34%)\n",
      "add_ecr_lifecycle_policy                   1 ( 0.34%)\n",
      "reduce_dynamodb_tables                     0 ( 0.00%)\n",
      "remove_alb                                 1 ( 0.34%)\n"
     ]
    }
   ],
   "source": [
    "print('codes:', len(codes))\n",
    "\n",
    "counts = {\n",
    "    c['name']: sum(c['name'] in d['codes'] for d in diffs)\n",
    "    for c in codes\n",
    "}\n",
    "\n",
    "L = max(len(c['name']) for c in codes)\n",
    "NL = max(len(str(n)) for n in counts.values())\n",
    "\n",
    "for c in codes:\n",
    "    name = c['name']\n",
    "    n = sum(name in d['codes'] for d in diffs)\n",
    "    p = (n / n_processed * 100)\n",
    "    print(f'{name}{' ' * (L+1-len(name))}{' ' * (NL+1-len(str(n)))}{n} ({p:5.2f}%)')"
   ]
  },
  {
   "cell_type": "markdown",
   "metadata": {},
   "source": [
    "## Undefined codes\n",
    "\n",
    "List codes which are attached to commits but not defined in `codes.json`."
   ]
  },
  {
   "cell_type": "code",
   "execution_count": 139,
   "metadata": {},
   "outputs": [
    {
     "name": "stdout",
     "output_type": "stream",
     "text": [
      "remove_external_vpc_endpoint is not listed\n",
      "reduce_eip is not listed\n",
      "reduce_dynamo_tables is not listed\n"
     ]
    }
   ],
   "source": [
    "listed_codes = set(c['name'] for c in codes)\n",
    "for d in diffs:\n",
    "    for c in d['codes']:\n",
    "        if c not in listed_codes:\n",
    "            print(f'{c} is not listed')"
   ]
  }
 ],
 "metadata": {
  "kernelspec": {
   "display_name": "venv",
   "language": "python",
   "name": "python3"
  },
  "language_info": {
   "codemirror_mode": {
    "name": "ipython",
    "version": 3
   },
   "file_extension": ".py",
   "mimetype": "text/x-python",
   "name": "python",
   "nbconvert_exporter": "python",
   "pygments_lexer": "ipython3",
   "version": "3.12.2"
  }
 },
 "nbformat": 4,
 "nbformat_minor": 2
}
