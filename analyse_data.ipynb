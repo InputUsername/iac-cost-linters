{
 "cells": [
  {
   "cell_type": "code",
   "execution_count": 70,
   "metadata": {},
   "outputs": [],
   "source": [
    "import json\n",
    "\n",
    "with open('diffs.json', 'r') as f:\n",
    "    diffs = json.load(f)\n",
    "\n",
    "with open('codes.json', 'r') as cf:\n",
    "    codes = json.load(cf)"
   ]
  },
  {
   "cell_type": "code",
   "execution_count": 71,
   "metadata": {},
   "outputs": [
    {
     "name": "stdout",
     "output_type": "stream",
     "text": [
      "retrieved commits: 499/538 (92.75%)\n",
      "originally coded with `saving`: 342/499 (68.54%)\n",
      "processed commits: 78/499 (15.63%)\n",
      "files affected (avg): 4.42\n"
     ]
    }
   ],
   "source": [
    "TOTAL = 538\n",
    "retrieved = len(diffs)\n",
    "with_saving = len([d for d in diffs if 'saving' in d['existing_codes']])\n",
    "print('retrieved commits:', f'{retrieved}/{TOTAL}', f'({retrieved/TOTAL*100:.2f}%)')\n",
    "print('originally coded with `saving`:', f'{with_saving}/{retrieved}', f'({with_saving/retrieved*100:.2f}%)')\n",
    "\n",
    "n_processed = sum(len(d[\"codes\"]) != 0 for d in diffs)\n",
    "print('processed commits:', f'{n_processed}/{retrieved}', f'({n_processed/retrieved*100:.2f}%)')\n",
    "\n",
    "avg_files = sum(len(d['files']) for d in diffs) / len(diffs)\n",
    "print('files affected (avg):', f'{avg_files:.2f}')"
   ]
  },
  {
   "cell_type": "code",
   "execution_count": 72,
   "metadata": {},
   "outputs": [
    {
     "name": "stdout",
     "output_type": "stream",
     "text": [
      "codes: 48\n",
      "not_relevant                           15\n",
      "digitalocean                           2\n",
      "aws                                    60\n",
      "gcp                                    9\n",
      "azure                                  6\n",
      "alicloud                               1\n",
      "smaller_disk                           1\n",
      "cheaper_disk_type                      2\n",
      "remove_loadbalancer                    1\n",
      "cheaper_instance                       15\n",
      "new_gen                                12\n",
      "remove_dataflow                        1\n",
      "reduce_subnets                         1\n",
      "remove_nat                             3\n",
      "add_lifecycle_rule                     3\n",
      "cheaper_volume                         3\n",
      "reduce_nat_gateways                    1\n",
      "remove_nat_gateway                     2\n",
      "remove_eks                             1\n",
      "add_preemptible                        1\n",
      "reduce_vpc_endpoint_subnets            1\n",
      "remove_iops                            1\n",
      "cheaper_redis_cache                    1\n",
      "cheaper_os                             1\n",
      "reduce_az                              2\n",
      "remove_iam                             1\n",
      "use_global_loadbalancing               1\n",
      "remove_private_subnet                  2\n",
      "use_spot_fleet                         1\n",
      "remove_vpn                             1\n",
      "remove_gcp                             2\n",
      "dynamo_on_demand                       3\n",
      "remove_dynamo_global_secondary_indices 1\n",
      "use_spot_instance                      2\n",
      "remove_firewall                        1\n",
      "remove_cloudwatch_metrics              1\n",
      "cheaper_image                          1\n",
      "remove_cloudwatch_logs                 1\n",
      "cheaper_area                           2\n",
      "cheaper_rds_cluster                    1\n",
      "lambda_less_memory                     1\n",
      "auto_stop_1h                           1\n",
      "remove_eip                             1\n",
      "less_cpu_cores                         1\n",
      "less_memory                            1\n",
      "use_single_instance_aurora             1\n",
      "cheaper_provider                       1\n",
      "use_alb                                1\n"
     ]
    }
   ],
   "source": [
    "# List all codes\n",
    "\n",
    "print('codes:', len(codes))\n",
    "\n",
    "L = max(len(c['name']) for c in codes)\n",
    "for c in codes:\n",
    "    name = c['name']\n",
    "    n = sum(name in d['codes'] for d in diffs)\n",
    "    print(f'{name}{' ' * (L+1-len(name))}{n}')\n",
    "\n",
    "# List codes which are attached to commits but not described\n",
    "\n",
    "listed_codes = set(c['name'] for c in codes)\n",
    "for d in diffs:\n",
    "    for c in d['codes']:\n",
    "        if c not in listed_codes:\n",
    "            print(f'{c} is not listed')"
   ]
  }
 ],
 "metadata": {
  "kernelspec": {
   "display_name": "venv",
   "language": "python",
   "name": "python3"
  },
  "language_info": {
   "codemirror_mode": {
    "name": "ipython",
    "version": 3
   },
   "file_extension": ".py",
   "mimetype": "text/x-python",
   "name": "python",
   "nbconvert_exporter": "python",
   "pygments_lexer": "ipython3",
   "version": "3.12.2"
  }
 },
 "nbformat": 4,
 "nbformat_minor": 2
}
