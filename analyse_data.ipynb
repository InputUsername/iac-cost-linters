{
 "cells": [
  {
   "cell_type": "markdown",
   "metadata": {},
   "source": [
    "# Analysis"
   ]
  },
  {
   "cell_type": "code",
   "execution_count": 95,
   "metadata": {},
   "outputs": [],
   "source": [
    "import json\n",
    "\n",
    "with open('diffs.json', 'r') as f:\n",
    "    diffs = json.load(f)\n",
    "\n",
    "with open('codes.json', 'r') as cf:\n",
    "    codes = json.load(cf)"
   ]
  },
  {
   "cell_type": "markdown",
   "metadata": {},
   "source": [
    "## Dataset"
   ]
  },
  {
   "cell_type": "code",
   "execution_count": 102,
   "metadata": {},
   "outputs": [
    {
     "name": "stdout",
     "output_type": "stream",
     "text": [
      "retrieved commits: 499/538 (92.75%)\n",
      "originally coded with `saving`: 342/499 (68.54%)\n",
      "processed commits: 499/499 (100.00%)\n",
      "processed commits originally coded with `saving`: 342/342 (100.00%)\n",
      "commits coded with `no_cost_change`: 179/499 (35.87%)\n",
      "files affected (avg): 4.42\n"
     ]
    }
   ],
   "source": [
    "TOTAL = 538\n",
    "retrieved = len(diffs)\n",
    "with_saving = len([d for d in diffs if 'saving' in d['existing_codes']])\n",
    "print('retrieved commits:', f'{retrieved}/{TOTAL}', f'({retrieved/TOTAL*100:.2f}%)')\n",
    "print('originally coded with `saving`:', f'{with_saving}/{retrieved}', f'({with_saving/retrieved*100:.2f}%)')\n",
    "\n",
    "n_processed = sum(len(d['codes']) != 0 for d in diffs)\n",
    "n_processed_with_saving = sum(len(d['codes']) != 0 and 'saving' in d['existing_codes'] for d in diffs)\n",
    "print('processed commits:', f'{n_processed}/{retrieved}', f'({n_processed/retrieved*100:.2f}%)')\n",
    "print('processed commits originally coded with `saving`:', f'{n_processed_with_saving}/{with_saving}', f'({n_processed_with_saving/with_saving*100:.2f}%)')\n",
    "\n",
    "no_cost_change = sum('no_cost_change' in d['codes'] for d in diffs)\n",
    "print('commits coded with `no_cost_change`:', f'{no_cost_change}/{n_processed}', f'({no_cost_change/retrieved*100:.2f}%)')\n",
    "\n",
    "avg_files = sum(len(d['files']) for d in diffs) / len(diffs)\n",
    "print('files affected (avg):', f'{avg_files:.2f}')"
   ]
  },
  {
   "cell_type": "markdown",
   "metadata": {},
   "source": [
    "## Codes"
   ]
  },
  {
   "cell_type": "code",
   "execution_count": 97,
   "metadata": {},
   "outputs": [
    {
     "name": "stdout",
     "output_type": "stream",
     "text": [
      "shape: (128, 4)\n",
      "┌─────────────────────────────┬───────────────────────────────────┬───────┬────────────┐\n",
      "│ name                        ┆ description                       ┆ count ┆ percentage │\n",
      "│ ---                         ┆ ---                               ┆ ---   ┆ ---        │\n",
      "│ str                         ┆ str                               ┆ i32   ┆ f64        │\n",
      "╞═════════════════════════════╪═══════════════════════════════════╪═══════╪════════════╡\n",
      "│ aws                         ┆ Specific to Amazon Web Services   ┆ 363   ┆ 72.745491  │\n",
      "│ no_cost_change              ┆ The commit contents do not refle… ┆ 179   ┆ 35.871743  │\n",
      "│ cheaper_instance            ┆ Use a cheaper compute instance    ┆ 74    ┆ 14.829659  │\n",
      "│ gcp                         ┆ Specific to Google Cloud Platfor… ┆ 64    ┆ 12.825651  │\n",
      "│ azure                       ┆ Specific to Azure                 ┆ 52    ┆ 10.420842  │\n",
      "│ …                           ┆ …                                 ┆ …     ┆ …          │\n",
      "│ reduce_cloudwatch_retention ┆ Reduce the retention period of a… ┆ 1     ┆ 0.200401   │\n",
      "│ remove_rds_instance         ┆ Remove an RDS instance            ┆ 1     ┆ 0.200401   │\n",
      "│ remove_sqs                  ┆ Stop using SQS                    ┆ 1     ┆ 0.200401   │\n",
      "│ lambda_max_concurrency      ┆ Set a maximum concurrency for La… ┆ 1     ┆ 0.200401   │\n",
      "│ remove_log_analytics        ┆ Stop using Azure Log Analytics    ┆ 1     ┆ 0.200401   │\n",
      "└─────────────────────────────┴───────────────────────────────────┴───────┴────────────┘\n"
     ]
    }
   ],
   "source": [
    "import polars as pl\n",
    "\n",
    "codes_df = pl.DataFrame(codes) \\\n",
    "            .with_columns(count=sum(pl.col('name').is_in(d['codes']) for d in diffs)) \\\n",
    "            .with_columns(percentage=pl.col('count') / n_processed * 100) \\\n",
    "            .sort(by=pl.col('count'), descending=True)\n",
    "\n",
    "print(codes_df)\n",
    "\n",
    "codes_df.drop(\"percentage\").write_csv(\"codes.csv\")"
   ]
  },
  {
   "cell_type": "markdown",
   "metadata": {},
   "source": [
    "### Cloud-specific Codes"
   ]
  },
  {
   "cell_type": "code",
   "execution_count": 98,
   "metadata": {},
   "outputs": [
    {
     "name": "stdout",
     "output_type": "stream",
     "text": [
      "shape: (10, 3)\n",
      "┌──────────────┬───────┬────────────┐\n",
      "│ name         ┆ count ┆ percentage │\n",
      "│ ---          ┆ ---   ┆ ---        │\n",
      "│ str          ┆ i32   ┆ f64        │\n",
      "╞══════════════╪═══════╪════════════╡\n",
      "│ aws          ┆ 363   ┆ 72.745491  │\n",
      "│ gcp          ┆ 64    ┆ 12.825651  │\n",
      "│ azure        ┆ 52    ┆ 10.420842  │\n",
      "│ digitalocean ┆ 12    ┆ 2.40481    │\n",
      "│ scaleway     ┆ 3     ┆ 0.601202   │\n",
      "│ hcloud       ┆ 2     ┆ 0.400802   │\n",
      "│ ibm          ┆ 2     ┆ 0.400802   │\n",
      "│ oracle       ┆ 2     ┆ 0.400802   │\n",
      "│ alicloud     ┆ 1     ┆ 0.200401   │\n",
      "│ ovh          ┆ 1     ┆ 0.200401   │\n",
      "└──────────────┴───────┴────────────┘\n"
     ]
    }
   ],
   "source": [
    "clouds = {'digitalocean', 'aws', 'gcp', 'azure', 'alicloud', 'scaleway', 'hcloud', 'ibm', 'oracle', 'ovh'}\n",
    "\n",
    "cloud_codes = codes_df.filter(pl.col('name').is_in(clouds)).drop('description')\n",
    "\n",
    "print(cloud_codes)\n",
    "\n",
    "# for name, count, pct in cloud_codes.iter_rows():\n",
    "#     print(f'{name} & {count} & {pct:.1f}\\\\%', '\\\\\\\\\\n\\\\hline')"
   ]
  },
  {
   "cell_type": "markdown",
   "metadata": {},
   "source": [
    "### Uniqueness\n",
    "\n",
    "Determine how many unique owners the code occurs for, to see if there is actually a pattern across developers/organizations."
   ]
  },
  {
   "cell_type": "code",
   "execution_count": 99,
   "metadata": {},
   "outputs": [
    {
     "name": "stdout",
     "output_type": "stream",
     "text": [
      "number of unique owners: 352\n",
      "shape: (44, 3)\n",
      "┌────────────────────────────┬───────────────────────────────────┬──────────┐\n",
      "│ name                       ┆ owners                            ┆ n_owners │\n",
      "│ ---                        ┆ ---                               ┆ ---      │\n",
      "│ str                        ┆ list[str]                         ┆ u32      │\n",
      "╞════════════════════════════╪═══════════════════════════════════╪══════════╡\n",
      "│ no_cost_change             ┆ [\"stuartsan\", \"picatz\", … \"jsnid… ┆ 124      │\n",
      "│ cheaper_instance           ┆ [\"yardbirdsax\", \"deadlysyn\", … \"… ┆ 62       │\n",
      "│ new_gen                    ┆ [\"yardbirdsax\", \"dwp\", … \"kmishr… ┆ 25       │\n",
      "│ dynamo_on_demand           ┆ [\"MichaelDeCorte\", \"jenkins-x\", … ┆ 19       │\n",
      "│ remove_nat_gateway         ┆ [\"CheesecakeLabs\", \"joshuaspence… ┆ 18       │\n",
      "│ …                          ┆ …                                 ┆ …        │\n",
      "│ reduce_node_count          ┆ [\"giantswarm\", \"armand1m\"]        ┆ 2        │\n",
      "│ remove_status_check        ┆ [\"elliotpryde\", \"tdooner\"]        ┆ 2        │\n",
      "│ cheaper_container_registry ┆ [\"hazelops\", \"rjmco\"]             ┆ 2        │\n",
      "│ reduce_eip                 ┆ [\"stSoftwareAU\", \"simplygenius\"]  ┆ 2        │\n",
      "│ use_default_kms_key        ┆ [\"thatscotdatasci\", \"jonbamber\"]  ┆ 2        │\n",
      "└────────────────────────────┴───────────────────────────────────┴──────────┘\n"
     ]
    }
   ],
   "source": [
    "def repo_owner(diff: dict[str, str]) -> str:\n",
    "    _, _, _, owner, *_ = diff['url'].split('/')\n",
    "    return owner\n",
    "\n",
    "n_owners = len(set(repo_owner(d) for d in diffs))\n",
    "print('number of unique owners:', n_owners)\n",
    "\n",
    "owners = [\n",
    "    {\n",
    "        'name': c['name'],\n",
    "        'owners': list(set(repo_owner(d) for d in diffs if c['name'] in d['codes']))\n",
    "    }\n",
    "    for c in codes\n",
    "]\n",
    "owners_df = pl.DataFrame(owners) \\\n",
    "                .with_columns(n_owners=pl.col('owners').list.len()) \\\n",
    "                .sort(by=pl.col('n_owners'), descending=True)\n",
    "\n",
    "filtered = owners_df.filter(pl.col('name').is_in(clouds).not_()).filter(pl.col('n_owners') >= 2)\n",
    "\n",
    "print(filtered)\n",
    "\n",
    "#filtered.drop('owners').write_csv('unique_owners.csv')"
   ]
  },
  {
   "cell_type": "markdown",
   "metadata": {},
   "source": [
    "### Undefined codes\n",
    "\n",
    "List codes which are attached to commits but not defined in `codes.json`."
   ]
  },
  {
   "cell_type": "code",
   "execution_count": 100,
   "metadata": {},
   "outputs": [],
   "source": [
    "listed_codes = set(c['name'] for c in codes)\n",
    "for d in diffs:\n",
    "    for c in d['codes']:\n",
    "        if c not in listed_codes:\n",
    "            print(f'{c} is not listed')"
   ]
  },
  {
   "cell_type": "code",
   "execution_count": 101,
   "metadata": {},
   "outputs": [
    {
     "name": "stdout",
     "output_type": "stream",
     "text": [
      "https://github.com/openinfrastructure/terraform-google-gitlab-runner/commit/8429375df72b04cc6fedc1ebb5f2c2e4ba18b9f2\n",
      "https://github.com/kathputli/terraform-aws/commit/321b1aee88f7d15dafe46aede2b86ced70061025\n",
      "https://github.com/naciriii/terraform-ec2-gitlab-runner/commit/f8af6bc22bd3d827566e7e65deb63c13cdaf6031\n",
      "https://github.com/Hapag-Lloyd/terraform-aws-bastion-host-ssm/commit/516075e2987bdd1063f22768d451c1c1eb647175\n",
      "https://github.com/ToruMakabe/aks-anti-dry-iac/commit/4ba7a9dc3085ab701c85737a4f36dd57fcd7596f\n",
      "https://github.com/paperphyte/terraform-drone/commit/79f4b7c2cf3ad2d1a6d2646eaf27a08fd2611d07\n",
      "https://github.com/filhodanuvem/from-dev-to-ops/commit/998be8119321e8812884075b078a1d5fb36cfa69\n",
      "https://github.com/stephaneclavel/terraform/commit/74b4ba406b9ea761d27298165d0e0de45c9d8491\n",
      "https://github.com/tale-toul/SingleNodeOpenshiftOnLibvirt/commit/638430604158044fcf123adaf8dfdcc91b1a873e\n",
      "https://github.com/JaredStufftGD/grok-airflow/commit/7ac9544b0c651fd8193eb063079514d0aa41e290\n",
      "https://github.com/kaz/kiritan.com/commit/1cd96c7f71e56629ffa07c38e12c4da19fcfc5f7\n",
      "https://github.com/openinfrastructure/terraform-google-multinic/commit/7a9c468b88d2edee19007cff6529a20a38eeb363\n"
     ]
    }
   ],
   "source": [
    "diffs_df = pl.DataFrame(diffs)\n",
    "\n",
    "expr = pl.col('codes').list.contains('use_spot_instance') \\\n",
    "    | pl.col('codes').list.contains('use_spot_fleet') \\\n",
    "    | pl.col('codes').list.contains('add_preemptible') \\\n",
    "    | pl.col('codes').list.contains('use_fargate_spot_capacity_provider')\n",
    "\n",
    "# expr = pl.col('codes').list.contains('new_gen') & (\n",
    "#     # pl.col('codes').list.contains('cheaper_instance')\n",
    "#     pl.col('codes').list.contains('cheaper_volume')\n",
    "#     # pl.col('codes').list.contains('cheaper_storage')\n",
    "# )\n",
    "\n",
    "for row in diffs_df.filter(expr).drop('files', 'existing_codes', 'notes').iter_rows():\n",
    "    # print(row[0], row[1])\n",
    "    print(row[0])"
   ]
  }
 ],
 "metadata": {
  "kernelspec": {
   "display_name": "venv",
   "language": "python",
   "name": "python3"
  },
  "language_info": {
   "codemirror_mode": {
    "name": "ipython",
    "version": 3
   },
   "file_extension": ".py",
   "mimetype": "text/x-python",
   "name": "python",
   "nbconvert_exporter": "python",
   "pygments_lexer": "ipython3",
   "version": "3.12.2"
  }
 },
 "nbformat": 4,
 "nbformat_minor": 2
}
