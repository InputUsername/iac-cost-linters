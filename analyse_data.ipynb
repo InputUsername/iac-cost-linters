{
 "cells": [
  {
   "cell_type": "markdown",
   "metadata": {},
   "source": [
    "# Analysis"
   ]
  },
  {
   "cell_type": "code",
   "execution_count": 31,
   "metadata": {},
   "outputs": [],
   "source": [
    "import json\n",
    "\n",
    "with open('diffs.json', 'r') as f:\n",
    "    diffs = json.load(f)\n",
    "\n",
    "with open('codes.json', 'r') as cf:\n",
    "    codes = json.load(cf)"
   ]
  },
  {
   "cell_type": "markdown",
   "metadata": {},
   "source": [
    "## Dataset"
   ]
  },
  {
   "cell_type": "code",
   "execution_count": 32,
   "metadata": {},
   "outputs": [
    {
     "name": "stdout",
     "output_type": "stream",
     "text": [
      "retrieved commits: 499/538 (92.75%)\n",
      "retrieved repos: 403/434 (92.86%)\n",
      "\n",
      "originally coded with `saving`: 342/499 (68.54%)\n",
      "\n",
      "processed commits: 499/499 (100.00%)\n",
      "processed commits originally coded with `saving`: 342/342 (100.00%)\n",
      "\n",
      "commits coded with `no_cost_change`: 179/499 (35.87%)\n",
      "\n",
      "files affected (avg): 4.42\n"
     ]
    }
   ],
   "source": [
    "def repo_name(diff: dict[str]) -> str:\n",
    "    _, _, _, owner, repo, *_ = diff['url'].split('/')\n",
    "    return f'{owner}/{repo}'\n",
    "\n",
    "TOTAL = 538\n",
    "TOTAL_REPOS = 434\n",
    "\n",
    "retrieved = len(diffs)\n",
    "retrieved_repos = len(set(repo_name(d) for d in diffs))\n",
    "print('retrieved commits:', f'{retrieved}/{TOTAL}', f'({retrieved/TOTAL*100:.2f}%)')\n",
    "print('retrieved repos:', f'{retrieved_repos}/{TOTAL_REPOS}', f'({retrieved_repos/TOTAL_REPOS*100:.2f}%)')\n",
    "\n",
    "with_saving = len([d for d in diffs if 'saving' in d['existing_codes']])\n",
    "print('\\noriginally coded with `saving`:', f'{with_saving}/{retrieved}', f'({with_saving/retrieved*100:.2f}%)')\n",
    "\n",
    "n_processed = sum(len(d['codes']) != 0 for d in diffs)\n",
    "n_processed_with_saving = sum(len(d['codes']) != 0 and 'saving' in d['existing_codes'] for d in diffs)\n",
    "print('\\nprocessed commits:', f'{n_processed}/{retrieved}', f'({n_processed/retrieved*100:.2f}%)')\n",
    "print('processed commits originally coded with `saving`:', f'{n_processed_with_saving}/{with_saving}', f'({n_processed_with_saving/with_saving*100:.2f}%)')\n",
    "\n",
    "no_cost_change = sum('no_cost_change' in d['codes'] for d in diffs)\n",
    "print('\\ncommits coded with `no_cost_change`:', f'{no_cost_change}/{n_processed}', f'({no_cost_change/retrieved*100:.2f}%)')\n",
    "\n",
    "avg_files = sum(len(d['files']) for d in diffs) / len(diffs)\n",
    "print('\\nfiles affected (avg):', f'{avg_files:.2f}')"
   ]
  },
  {
   "cell_type": "markdown",
   "metadata": {},
   "source": [
    "## Codes"
   ]
  },
  {
   "cell_type": "code",
   "execution_count": 33,
   "metadata": {},
   "outputs": [
    {
     "name": "stdout",
     "output_type": "stream",
     "text": [
      "shape: (128, 4)\n",
      "┌─────────────────────────────┬───────────────────────────────────┬───────┬────────────┐\n",
      "│ name                        ┆ description                       ┆ count ┆ percentage │\n",
      "│ ---                         ┆ ---                               ┆ ---   ┆ ---        │\n",
      "│ str                         ┆ str                               ┆ i32   ┆ f64        │\n",
      "╞═════════════════════════════╪═══════════════════════════════════╪═══════╪════════════╡\n",
      "│ aws                         ┆ Specific to Amazon Web Services   ┆ 363   ┆ 72.745491  │\n",
      "│ no_cost_change              ┆ The commit contents do not refle… ┆ 179   ┆ 35.871743  │\n",
      "│ cheaper_instance            ┆ Use a cheaper compute instance    ┆ 74    ┆ 14.829659  │\n",
      "│ gcp                         ┆ Specific to Google Cloud Platfor… ┆ 64    ┆ 12.825651  │\n",
      "│ azure                       ┆ Specific to Azure                 ┆ 52    ┆ 10.420842  │\n",
      "│ …                           ┆ …                                 ┆ …     ┆ …          │\n",
      "│ reduce_cloudwatch_retention ┆ Reduce the retention period of a… ┆ 1     ┆ 0.200401   │\n",
      "│ remove_rds_instance         ┆ Remove an RDS instance            ┆ 1     ┆ 0.200401   │\n",
      "│ remove_sqs                  ┆ Stop using SQS                    ┆ 1     ┆ 0.200401   │\n",
      "│ lambda_max_concurrency      ┆ Set a maximum concurrency for La… ┆ 1     ┆ 0.200401   │\n",
      "│ remove_log_analytics        ┆ Stop using Azure Log Analytics    ┆ 1     ┆ 0.200401   │\n",
      "└─────────────────────────────┴───────────────────────────────────┴───────┴────────────┘\n"
     ]
    }
   ],
   "source": [
    "import polars as pl\n",
    "\n",
    "codes_df = pl.DataFrame(codes) \\\n",
    "            .with_columns(count=sum(pl.col('name').is_in(d['codes']) for d in diffs)) \\\n",
    "            .with_columns(percentage=pl.col('count') / n_processed * 100) \\\n",
    "            .sort(by=pl.col('count'), descending=True)\n",
    "\n",
    "print(codes_df)\n",
    "\n",
    "codes_df.drop(\"percentage\").write_csv(\"codes.csv\")"
   ]
  },
  {
   "cell_type": "markdown",
   "metadata": {},
   "source": [
    "### Cloud-specific Codes"
   ]
  },
  {
   "cell_type": "code",
   "execution_count": 34,
   "metadata": {},
   "outputs": [
    {
     "name": "stdout",
     "output_type": "stream",
     "text": [
      "shape: (10, 3)\n",
      "┌──────────────┬───────┬────────────┐\n",
      "│ name         ┆ count ┆ percentage │\n",
      "│ ---          ┆ ---   ┆ ---        │\n",
      "│ str          ┆ i32   ┆ f64        │\n",
      "╞══════════════╪═══════╪════════════╡\n",
      "│ aws          ┆ 363   ┆ 72.745491  │\n",
      "│ gcp          ┆ 64    ┆ 12.825651  │\n",
      "│ azure        ┆ 52    ┆ 10.420842  │\n",
      "│ digitalocean ┆ 12    ┆ 2.40481    │\n",
      "│ scaleway     ┆ 3     ┆ 0.601202   │\n",
      "│ hcloud       ┆ 2     ┆ 0.400802   │\n",
      "│ ibm          ┆ 2     ┆ 0.400802   │\n",
      "│ oracle       ┆ 2     ┆ 0.400802   │\n",
      "│ alicloud     ┆ 1     ┆ 0.200401   │\n",
      "│ ovh          ┆ 1     ┆ 0.200401   │\n",
      "└──────────────┴───────┴────────────┘\n",
      "shape: (118, 3)\n",
      "┌─────────────────────────────┬───────┬────────────┐\n",
      "│ name                        ┆ count ┆ percentage │\n",
      "│ ---                         ┆ ---   ┆ ---        │\n",
      "│ str                         ┆ i32   ┆ f64        │\n",
      "╞═════════════════════════════╪═══════╪════════════╡\n",
      "│ no_cost_change              ┆ 179   ┆ 35.871743  │\n",
      "│ cheaper_instance            ┆ 74    ┆ 14.829659  │\n",
      "│ new_gen                     ┆ 34    ┆ 6.813627   │\n",
      "│ remove_nat_gateway          ┆ 22    ┆ 4.408818   │\n",
      "│ dynamo_on_demand            ┆ 20    ┆ 4.008016   │\n",
      "│ …                           ┆ …     ┆ …          │\n",
      "│ reduce_cloudwatch_retention ┆ 1     ┆ 0.200401   │\n",
      "│ remove_rds_instance         ┆ 1     ┆ 0.200401   │\n",
      "│ remove_sqs                  ┆ 1     ┆ 0.200401   │\n",
      "│ lambda_max_concurrency      ┆ 1     ┆ 0.200401   │\n",
      "│ remove_log_analytics        ┆ 1     ┆ 0.200401   │\n",
      "└─────────────────────────────┴───────┴────────────┘\n",
      "shape: (1, 1)\n",
      "┌───────┐\n",
      "│ count │\n",
      "│ ---   │\n",
      "│ i32   │\n",
      "╞═══════╡\n",
      "│ 502   │\n",
      "└───────┘\n",
      "https://github.com/geraldwuhoo/homelab-iac/commit/3228ee1c5bfdf89e57e898659b086364122d58c1 ['no_cost_change']\n",
      "https://github.com/AwakeningSV/live-infrastructure/commit/43bba3db97631d8730160950395fde42793adbc2 ['digitalocean', 'azure', 'cheaper_provider']\n",
      "https://github.com/jjffggpp/jjffggpp/commit/0e69a9978eae9e3432de8f16c2ca1b38033c23a7 ['aws', 'azure', 'gcp', 'no_cost_change']\n",
      "https://github.com/jjffggpp/jjffggpp/commit/948727c5b1e87b970a7a9dee4cd67bb84d19abf8 ['aws', 'azure', 'gcp', 'no_cost_change']\n",
      "https://github.com/mhemeryck/iac/commit/9ec3047d95969e8d2b729e6545672c3084ea846d ['digitalocean', 'hcloud', 'cheaper_provider']\n",
      "https://github.com/kabisa/terraform-datadog-costs/commit/adaf03ac0d5a324880e9e6aa10d54b9de6b4e635 ['no_cost_change']\n",
      "https://github.com/e91e63/terraform-tekton-pipelines/commit/432683fcf7921a699f1557e89818b3bef5dba61a ['no_cost_change']\n",
      "https://github.com/alphagov/govuk-infrastructure/commit/ee2b2286a02d49c7e9992d0a39ce950583e16bb7 ['no_cost_change']\n",
      "https://github.com/rremer/terraform-minecraft/commit/bac050d515cd6991e17cd1a34197d84982f5931d ['aws', 'gcp', 'cheaper_provider']\n"
     ]
    }
   ],
   "source": [
    "clouds = {'digitalocean', 'aws', 'gcp', 'azure', 'alicloud', 'scaleway', 'hcloud', 'ibm', 'oracle', 'ovh'}\n",
    "\n",
    "cloud_codes = codes_df.filter(pl.col('name').is_in(clouds)).drop('description')\n",
    "\n",
    "print(cloud_codes)\n",
    "\n",
    "# for name, count, pct in cloud_codes.iter_rows():\n",
    "#     print(f'{name} & {count} & {pct:.1f}\\\\%', '\\\\\\\\\\n\\\\midrule')\n",
    "\n",
    "non_cloud_codes = codes_df.filter(pl.col('name').is_in(clouds).not_()).drop('description')\n",
    "\n",
    "print(non_cloud_codes)\n",
    "\n",
    "print(cloud_codes.select('count').sum())\n",
    "for d in diffs:\n",
    "    n_clouds = len(set(d['codes']) & clouds)\n",
    "    if n_clouds != 1:\n",
    "        print(d['url'], d['codes'])"
   ]
  },
  {
   "cell_type": "markdown",
   "metadata": {},
   "source": [
    "### Uniqueness\n",
    "\n",
    "Determine how many unique owners the code occurs for, to see if there is actually a pattern across developers/organizations."
   ]
  },
  {
   "cell_type": "code",
   "execution_count": 35,
   "metadata": {},
   "outputs": [
    {
     "name": "stdout",
     "output_type": "stream",
     "text": [
      "number of unique owners: 352\n",
      "shape: (44, 3)\n",
      "┌────────────────────────────┬───────────────────────────────────┬──────────┐\n",
      "│ name                       ┆ owners                            ┆ n_owners │\n",
      "│ ---                        ┆ ---                               ┆ ---      │\n",
      "│ str                        ┆ list[str]                         ┆ u32      │\n",
      "╞════════════════════════════╪═══════════════════════════════════╪══════════╡\n",
      "│ no_cost_change             ┆ [\"wushin\", \"CPWu\", … \"jjffggpp\"]  ┆ 124      │\n",
      "│ cheaper_instance           ┆ [\"ayltai\", \"lowflying\", … \"deadl… ┆ 62       │\n",
      "│ new_gen                    ┆ [\"lowflying\", \"kmishra9\", … \"dea… ┆ 25       │\n",
      "│ dynamo_on_demand           ┆ [\"telia-oss\", \"olliefr\", … \"kper… ┆ 19       │\n",
      "│ remove_nat_gateway         ┆ [\"stealthHat\", \"HarsheshShah08\",… ┆ 18       │\n",
      "│ …                          ┆ …                                 ┆ …        │\n",
      "│ reduce_node_count          ┆ [\"giantswarm\", \"armand1m\"]        ┆ 2        │\n",
      "│ remove_status_check        ┆ [\"elliotpryde\", \"tdooner\"]        ┆ 2        │\n",
      "│ cheaper_container_registry ┆ [\"hazelops\", \"rjmco\"]             ┆ 2        │\n",
      "│ reduce_eip                 ┆ [\"simplygenius\", \"stSoftwareAU\"]  ┆ 2        │\n",
      "│ use_default_kms_key        ┆ [\"thatscotdatasci\", \"jonbamber\"]  ┆ 2        │\n",
      "└────────────────────────────┴───────────────────────────────────┴──────────┘\n"
     ]
    }
   ],
   "source": [
    "def repo_owner(diff: dict[str, str]) -> str:\n",
    "    _, _, _, owner, *_ = diff['url'].split('/')\n",
    "    return owner\n",
    "\n",
    "n_owners = len(set(repo_owner(d) for d in diffs))\n",
    "print('number of unique owners:', n_owners)\n",
    "\n",
    "owners = [\n",
    "    {\n",
    "        'name': c['name'],\n",
    "        'owners': list(set(repo_owner(d) for d in diffs if c['name'] in d['codes']))\n",
    "    }\n",
    "    for c in codes\n",
    "]\n",
    "owners_df = pl.DataFrame(owners) \\\n",
    "                .with_columns(n_owners=pl.col('owners').list.len()) \\\n",
    "                .sort(by=pl.col('n_owners'), descending=True)\n",
    "\n",
    "filtered = owners_df.filter(pl.col('name').is_in(clouds).not_()).filter(pl.col('n_owners') >= 2)\n",
    "\n",
    "print(filtered)\n",
    "\n",
    "#filtered.drop('owners').write_csv('unique_owners.csv')"
   ]
  },
  {
   "cell_type": "markdown",
   "metadata": {},
   "source": [
    "### Undefined codes\n",
    "\n",
    "List codes which are attached to commits but not defined in `codes.json`."
   ]
  },
  {
   "cell_type": "code",
   "execution_count": 36,
   "metadata": {},
   "outputs": [],
   "source": [
    "listed_codes = set(c['name'] for c in codes)\n",
    "for d in diffs:\n",
    "    for c in d['codes']:\n",
    "        if c not in listed_codes:\n",
    "            print(f'{c} is not listed')"
   ]
  }
 ],
 "metadata": {
  "kernelspec": {
   "display_name": "venv",
   "language": "python",
   "name": "python3"
  },
  "language_info": {
   "codemirror_mode": {
    "name": "ipython",
    "version": 3
   },
   "file_extension": ".py",
   "mimetype": "text/x-python",
   "name": "python",
   "nbconvert_exporter": "python",
   "pygments_lexer": "ipython3",
   "version": "3.12.3"
  }
 },
 "nbformat": 4,
 "nbformat_minor": 2
}
