{
 "cells": [
  {
   "cell_type": "markdown",
   "metadata": {},
   "source": [
    "# Analysis"
   ]
  },
  {
   "cell_type": "code",
   "execution_count": 106,
   "metadata": {},
   "outputs": [],
   "source": [
    "import json\n",
    "\n",
    "with open('diffs.json', 'r') as f:\n",
    "    diffs = json.load(f)\n",
    "\n",
    "with open('codes.json', 'r') as cf:\n",
    "    codes = json.load(cf)"
   ]
  },
  {
   "cell_type": "markdown",
   "metadata": {},
   "source": [
    "## Dataset"
   ]
  },
  {
   "cell_type": "code",
   "execution_count": 107,
   "metadata": {},
   "outputs": [
    {
     "name": "stdout",
     "output_type": "stream",
     "text": [
      "retrieved commits: 499/538 (92.75%)\n",
      "originally coded with `saving`: 342/499 (68.54%)\n",
      "processed commits: 408/499 (81.76%)\n",
      "processed commits coded with `saving`: 312/342 (91.23%)\n",
      "files affected (avg): 4.42\n"
     ]
    }
   ],
   "source": [
    "TOTAL = 538\n",
    "retrieved = len(diffs)\n",
    "with_saving = len([d for d in diffs if 'saving' in d['existing_codes']])\n",
    "print('retrieved commits:', f'{retrieved}/{TOTAL}', f'({retrieved/TOTAL*100:.2f}%)')\n",
    "print('originally coded with `saving`:', f'{with_saving}/{retrieved}', f'({with_saving/retrieved*100:.2f}%)')\n",
    "\n",
    "n_processed = sum(len(d['codes']) != 0 for d in diffs)\n",
    "print('processed commits:', f'{n_processed}/{retrieved}', f'({n_processed/retrieved*100:.2f}%)')\n",
    "n_processed_with_saving = sum(len(d['codes']) != 0 and 'saving' in d['existing_codes'] for d in diffs)\n",
    "print('processed commits coded with `saving`:', f'{n_processed_with_saving}/{with_saving}', f'({n_processed_with_saving/with_saving*100:.2f}%)')\n",
    "\n",
    "avg_files = sum(len(d['files']) for d in diffs) / len(diffs)\n",
    "print('files affected (avg):', f'{avg_files:.2f}')"
   ]
  },
  {
   "cell_type": "markdown",
   "metadata": {},
   "source": [
    "## Codes"
   ]
  },
  {
   "cell_type": "code",
   "execution_count": 108,
   "metadata": {},
   "outputs": [
    {
     "name": "stdout",
     "output_type": "stream",
     "text": [
      "shape: (106, 4)\n",
      "┌───────────────────────────────────┬───────────────────────────────────┬───────┬────────────┐\n",
      "│ name                              ┆ description                       ┆ count ┆ percentage │\n",
      "│ ---                               ┆ ---                               ┆ ---   ┆ ---        │\n",
      "│ str                               ┆ str                               ┆ i32   ┆ f64        │\n",
      "╞═══════════════════════════════════╪═══════════════════════════════════╪═══════╪════════════╡\n",
      "│ aws                               ┆ Specific to Amazon Web Services   ┆ 298   ┆ 73.039216  │\n",
      "│ not_relevant                      ┆ The commit contents do not refle… ┆ 137   ┆ 33.578431  │\n",
      "│ cheaper_instance                  ┆ Use a cheaper compute instance    ┆ 68    ┆ 16.666667  │\n",
      "│ gcp                               ┆ Specific to Google Cloud Platfor… ┆ 51    ┆ 12.5       │\n",
      "│ azure                             ┆ Specific to Azure                 ┆ 41    ┆ 10.04902   │\n",
      "│ …                                 ┆ …                                 ┆ …     ┆ …          │\n",
      "│ remove_transfer_acceleration      ┆ Remove transfer acceleration fro… ┆ 1     ┆ 0.245098   │\n",
      "│ associate_public_ip               ┆ Allow public IP addresses on ins… ┆ 1     ┆ 0.245098   │\n",
      "│ reduce_spot_fleet_price           ┆ Use a lower price for Spot fleet… ┆ 1     ┆ 0.245098   │\n",
      "│ remove_waf                        ┆ Disable WAF                       ┆ 1     ┆ 0.245098   │\n",
      "│ add_resource_group_cost_manageme… ┆ Add a cost management export to … ┆ 1     ┆ 0.245098   │\n",
      "└───────────────────────────────────┴───────────────────────────────────┴───────┴────────────┘\n"
     ]
    }
   ],
   "source": [
    "import polars as pl\n",
    "\n",
    "df = pl.DataFrame(codes) \\\n",
    "        .with_columns(count=sum(pl.col('name').is_in(d['codes']) for d in diffs)) \\\n",
    "        .with_columns(percentage=pl.col('count') / n_processed * 100) \\\n",
    "        .sort(by=pl.col('count'), descending=True)\n",
    "\n",
    "print(df)"
   ]
  },
  {
   "cell_type": "markdown",
   "metadata": {},
   "source": [
    "### Cloud-specific Codes"
   ]
  },
  {
   "cell_type": "code",
   "execution_count": 109,
   "metadata": {},
   "outputs": [
    {
     "name": "stdout",
     "output_type": "stream",
     "text": [
      "shape: (10, 3)\n",
      "┌──────────────┬───────┬────────────┐\n",
      "│ name         ┆ count ┆ percentage │\n",
      "│ ---          ┆ ---   ┆ ---        │\n",
      "│ str          ┆ i32   ┆ f64        │\n",
      "╞══════════════╪═══════╪════════════╡\n",
      "│ aws          ┆ 298   ┆ 73.039216  │\n",
      "│ gcp          ┆ 51    ┆ 12.5       │\n",
      "│ azure        ┆ 41    ┆ 10.04902   │\n",
      "│ digitalocean ┆ 10    ┆ 2.45098    │\n",
      "│ scaleway     ┆ 2     ┆ 0.490196   │\n",
      "│ oracle       ┆ 2     ┆ 0.490196   │\n",
      "│ alicloud     ┆ 1     ┆ 0.245098   │\n",
      "│ hcloud       ┆ 1     ┆ 0.245098   │\n",
      "│ ibm          ┆ 1     ┆ 0.245098   │\n",
      "│ ovh          ┆ 1     ┆ 0.245098   │\n",
      "└──────────────┴───────┴────────────┘\n"
     ]
    }
   ],
   "source": [
    "clouds = {'digitalocean', 'aws', 'gcp', 'azure', 'alicloud', 'scaleway', 'hcloud', 'ibm', 'oracle', 'ovh'}\n",
    "print(df.filter(pl.col('name').is_in(clouds)).drop('description'))"
   ]
  },
  {
   "cell_type": "markdown",
   "metadata": {},
   "source": [
    "### Undefined codes\n",
    "\n",
    "List codes which are attached to commits but not defined in `codes.json`."
   ]
  },
  {
   "cell_type": "code",
   "execution_count": 110,
   "metadata": {},
   "outputs": [],
   "source": [
    "listed_codes = set(c['name'] for c in codes)\n",
    "for d in diffs:\n",
    "    for c in d['codes']:\n",
    "        if c not in listed_codes:\n",
    "            print(f'{c} is not listed')"
   ]
  }
 ],
 "metadata": {
  "kernelspec": {
   "display_name": "venv",
   "language": "python",
   "name": "python3"
  },
  "language_info": {
   "codemirror_mode": {
    "name": "ipython",
    "version": 3
   },
   "file_extension": ".py",
   "mimetype": "text/x-python",
   "name": "python",
   "nbconvert_exporter": "python",
   "pygments_lexer": "ipython3",
   "version": "3.12.2"
  }
 },
 "nbformat": 4,
 "nbformat_minor": 2
}
