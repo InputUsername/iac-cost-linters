{
 "cells": [
  {
   "cell_type": "markdown",
   "metadata": {},
   "source": [
    "# Analysis"
   ]
  },
  {
   "cell_type": "code",
   "execution_count": 12,
   "metadata": {},
   "outputs": [],
   "source": [
    "import json\n",
    "\n",
    "with open('diffs.json', 'r') as f:\n",
    "    diffs = json.load(f)\n",
    "\n",
    "with open('codes.json', 'r') as cf:\n",
    "    codes = json.load(cf)"
   ]
  },
  {
   "cell_type": "markdown",
   "metadata": {},
   "source": [
    "## Dataset"
   ]
  },
  {
   "cell_type": "code",
   "execution_count": 13,
   "metadata": {},
   "outputs": [
    {
     "name": "stdout",
     "output_type": "stream",
     "text": [
      "retrieved commits: 499/538 (92.75%)\n",
      "originally coded with `saving`: 342/499 (68.54%)\n",
      "processed commits: 308/499 (61.72%)\n",
      "files affected (avg): 4.42\n"
     ]
    }
   ],
   "source": [
    "TOTAL = 538\n",
    "retrieved = len(diffs)\n",
    "with_saving = len([d for d in diffs if 'saving' in d['existing_codes']])\n",
    "print('retrieved commits:', f'{retrieved}/{TOTAL}', f'({retrieved/TOTAL*100:.2f}%)')\n",
    "print('originally coded with `saving`:', f'{with_saving}/{retrieved}', f'({with_saving/retrieved*100:.2f}%)')\n",
    "\n",
    "n_processed = sum(len(d[\"codes\"]) != 0 for d in diffs)\n",
    "print('processed commits:', f'{n_processed}/{retrieved}', f'({n_processed/retrieved*100:.2f}%)')\n",
    "\n",
    "avg_files = sum(len(d['files']) for d in diffs) / len(diffs)\n",
    "print('files affected (avg):', f'{avg_files:.2f}')"
   ]
  },
  {
   "cell_type": "markdown",
   "metadata": {},
   "source": [
    "## Codes"
   ]
  },
  {
   "cell_type": "code",
   "execution_count": 14,
   "metadata": {},
   "outputs": [
    {
     "name": "stdout",
     "output_type": "stream",
     "text": [
      "shape: (91, 4)\n",
      "┌──────────────────────────────┬───────────────────────────────────┬───────┬────────────┐\n",
      "│ name                         ┆ description                       ┆ count ┆ percentage │\n",
      "│ ---                          ┆ ---                               ┆ ---   ┆ ---        │\n",
      "│ str                          ┆ str                               ┆ i32   ┆ f64        │\n",
      "╞══════════════════════════════╪═══════════════════════════════════╪═══════╪════════════╡\n",
      "│ aws                          ┆ Specific to Amazon Web Services   ┆ 226   ┆ 73.376623  │\n",
      "│ not_relevant                 ┆ The commit contents do not refle… ┆ 84    ┆ 27.272727  │\n",
      "│ cheaper_instance             ┆ Use a cheaper compute instance    ┆ 64    ┆ 20.779221  │\n",
      "│ gcp                          ┆ Specific to Google Cloud Platfor… ┆ 40    ┆ 12.987013  │\n",
      "│ new_gen                      ┆ Newer resource generations tend … ┆ 31    ┆ 10.064935  │\n",
      "│ …                            ┆ …                                 ┆ …     ┆ …          │\n",
      "│ reduce_dynamo_tables         ┆ Reduce the number of DynamoDB ta… ┆ 1     ┆ 0.324675   │\n",
      "│ remove_alb                   ┆ Remove ALB                        ┆ 1     ┆ 0.324675   │\n",
      "│ remove_external_vpc_endpoint ┆ Remove an external VPC endpoint   ┆ 1     ┆ 0.324675   │\n",
      "│ reduce_eip                   ┆ Reduce the number of EIPs         ┆ 1     ┆ 0.324675   │\n",
      "│ use_full_glacier_time        ┆ Use at least 90 days for Glacier… ┆ 1     ┆ 0.324675   │\n",
      "└──────────────────────────────┴───────────────────────────────────┴───────┴────────────┘\n"
     ]
    }
   ],
   "source": [
    "import polars as pl\n",
    "\n",
    "df = pl.DataFrame(codes) \\\n",
    "    .with_columns(count=sum(pl.col('name').is_in(d['codes']) for d in diffs)) \\\n",
    "    .with_columns(percentage=pl.col('count') / n_processed * 100) \\\n",
    "    .sort(by=pl.col('count'), descending=True)\n",
    "\n",
    "print(df)\n",
    "\n",
    "# counts = {\n",
    "#     c['name']: sum(c['name'] in d['codes'] for d in diffs)\n",
    "#     for c in codes\n",
    "# }\n",
    "\n",
    "# L = max(len(c['name']) for c in codes)\n",
    "# NL = max(len(str(n)) for n in counts.values())\n",
    "\n",
    "# for c in codes:\n",
    "#     name = c['name']\n",
    "#     n = sum(name in d['codes'] for d in diffs)\n",
    "#     p = (n / n_processed * 100)\n",
    "#     print(f'{name}{' ' * (L+1-len(name))}{' ' * (NL+1-len(str(n)))}{n} ({p:5.2f}%)')"
   ]
  },
  {
   "cell_type": "markdown",
   "metadata": {},
   "source": [
    "## Undefined codes\n",
    "\n",
    "List codes which are attached to commits but not defined in `codes.json`."
   ]
  },
  {
   "cell_type": "code",
   "execution_count": 15,
   "metadata": {},
   "outputs": [],
   "source": [
    "listed_codes = set(c['name'] for c in codes)\n",
    "for d in diffs:\n",
    "    for c in d['codes']:\n",
    "        if c not in listed_codes:\n",
    "            print(f'{c} is not listed')"
   ]
  }
 ],
 "metadata": {
  "kernelspec": {
   "display_name": "venv",
   "language": "python",
   "name": "python3"
  },
  "language_info": {
   "codemirror_mode": {
    "name": "ipython",
    "version": 3
   },
   "file_extension": ".py",
   "mimetype": "text/x-python",
   "name": "python",
   "nbconvert_exporter": "python",
   "pygments_lexer": "ipython3",
   "version": "3.12.2"
  }
 },
 "nbformat": 4,
 "nbformat_minor": 2
}
