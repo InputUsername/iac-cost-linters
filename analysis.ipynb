{
 "cells": [
  {
   "cell_type": "code",
   "execution_count": 8,
   "metadata": {},
   "outputs": [
    {
     "name": "stdout",
     "output_type": "stream",
     "text": [
      "{'type': 'commit', 'url': 'https://github.com/tkhoa2711/terraform-digitalocean/commit/a86d89369aaf5a20c1e4d8415a8a771aa7de7d10', 'content': {'message': 'provision a droplet with cheapest price'}, 'codes': ['saving']}\n"
     ]
    }
   ],
   "source": [
    "import json\n",
    "from typing_extensions import TypedDict\n",
    "\n",
    "DatasetItem = TypedDict('DatasetItem', {'type': str, 'url': str, 'content': dict[str, str], 'codes': list[str]})\n",
    "\n",
    "with open('dataset.json', 'r') as dataset_file:\n",
    "    dataset: list[DatasetItem] = json.load(dataset_file)"
   ]
  },
  {
   "cell_type": "code",
   "execution_count": 10,
   "metadata": {},
   "outputs": [
    {
     "name": "stdout",
     "output_type": "stream",
     "text": [
      "Using GitHub as InputUsername\n"
     ]
    }
   ],
   "source": [
    "from github import Github, Auth\n",
    "\n",
    "with open('TOKEN.txt', 'r') as token_file:\n",
    "    token = token_file.readline().strip()\n",
    "    gh = Github(auth=Auth.Token(token))\n",
    "\n",
    "print('Using GitHub as', gh.get_user().login)"
   ]
  }
 ],
 "metadata": {
  "kernelspec": {
   "display_name": "Python 3",
   "language": "python",
   "name": "python3"
  },
  "language_info": {
   "codemirror_mode": {
    "name": "ipython",
    "version": 3
   },
   "file_extension": ".py",
   "mimetype": "text/x-python",
   "name": "python",
   "nbconvert_exporter": "python",
   "pygments_lexer": "ipython3",
   "version": "3.11.8"
  }
 },
 "nbformat": 4,
 "nbformat_minor": 2
}
