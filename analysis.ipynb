{
 "cells": [
  {
   "cell_type": "code",
   "execution_count": 1,
   "metadata": {},
   "outputs": [],
   "source": [
    "import json\n",
    "from typing_extensions import TypedDict\n",
    "\n",
    "DatasetItem = TypedDict('DatasetItem', {'type': str, 'url': str, 'content': dict[str, str], 'codes': list[str]})\n",
    "\n",
    "with open('dataset.json', 'r') as dataset_file:\n",
    "    dataset: list[DatasetItem] = json.load(dataset_file)\n",
    "\n",
    "# We are only interested in commits, not issues\n",
    "dataset = list(filter(lambda item: item['type'] == 'commit', dataset))"
   ]
  },
  {
   "cell_type": "code",
   "execution_count": 2,
   "metadata": {},
   "outputs": [
    {
     "name": "stdout",
     "output_type": "stream",
     "text": [
      "Using GitHub as InputUsername\n"
     ]
    }
   ],
   "source": [
    "from github import Github, Auth\n",
    "\n",
    "with open('TOKEN.txt', 'r') as token_file:\n",
    "    token = token_file.readline().strip()\n",
    "    gh = Github(auth=Auth.Token(token))\n",
    "\n",
    "print('Using GitHub as', gh.get_user().login)"
   ]
  },
  {
   "cell_type": "code",
   "execution_count": 9,
   "metadata": {},
   "outputs": [
    {
     "name": "stdout",
     "output_type": "stream",
     "text": [
      "{}\n",
      "OrderedDict([('tkhoa2711/terraform-digitalocean/a86d89369aaf5a20c1e4d8415a8a771aa7de7d10', {'main.tf': '@@ -0,0 +1,59 @@\\n+provider \"digitalocean\" {\\n+  token = \"${var.do_token}\"\\n+}\\n+\\n+data \"digitalocean_ssh_key\" \"personal\" {\\n+  name = \"${var.do_ssh_key_name}\"\\n+}\\n+\\n+data \"digitalocean_sizes\" \"web\" {\\n+  filter {\\n+    key    = \"vcpus\"\\n+    values = [1]\\n+  }\\n+\\n+  filter {\\n+    key    = \"memory\"\\n+    values = [1024]\\n+  }\\n+\\n+  filter {\\n+    key    = \"regions\"\\n+    values = [\"sgp1\"]\\n+  }\\n+\\n+  sort {\\n+    key       = \"price_monthly\"\\n+    direction = \"asc\"\\n+  }\\n+}\\n+\\n+resource \"digitalocean_droplet\" \"web\" {\\n+  ssh_keys = [\"${data.digitalocean_ssh_key.personal.id}\"]\\n+  image    = \"ubuntu-18-04-x64\"\\n+  name     = \"web\"\\n+  region   = \"sgp1\"\\n+\\n+  # https://developers.digitalocean.com/documentation/v2/#list-all-sizes\\n+  # size = \"s-1vcpu-1gb\" # $5.0/month\\n+  size = \"${data.digitalocean_sizes.web.sizes.0.slug}\"\\n+\\n+  provisioner \"remote-exec\" {\\n+    inline = [\\n+      \"sudo adduser --disabled-password --gecos \\'\\' ${var.username}\",\\n+      \"sudo mkdir -p /home/${var.username}/.ssh\",\\n+      \"sudo touch /home/${var.username}/.ssh/authorized_keys\",\\n+      \"sudo echo \\'${file(var.user_public_key)}\\' > /home/${var.username}/.ssh/authorized_keys\",\\n+      \"sudo chmod 0600 /home/${var.username}/.ssh/authorized_keys\",\\n+      \"sudo chown -R ${var.username}:${var.username} /home/${var.username}/.ssh\",\\n+      \"sudo usermod -aG sudo ${var.username}\",\\n+    ]\\n+\\n+    connection {\\n+      type        = \"ssh\"\\n+      user        = \"root\"\\n+      private_key = \"${file(var.private_key)}\"\\n+      timeout     = \"2m\"\\n+    }\\n+  }\\n+}', 'outputs.tf': '@@ -0,0 +1,11 @@\\n+output \"public_ip\" {\\n+  value = \"${digitalocean_droplet.web.ipv4_address}\"\\n+}\\n+\\n+output \"price_monthly\" {\\n+  value = \"${data.digitalocean_sizes.web.sizes.0.price_monthly}\"\\n+}\\n+\\n+output \"name\" {\\n+  value = \"${digitalocean_droplet.web.name}\"\\n+}', 'variable.tf': '@@ -0,0 +1,16 @@\\n+variable do_token {}\\n+\\n+variable do_ssh_key_name {\\n+  type        = \"string\"\\n+  description = \"The SSH key to associate with the box\"\\n+}\\n+\\n+variable username {\\n+  description = \"The username to login to the box after creation\"\\n+}\\n+\\n+variable user_public_key {\\n+  description = \"The public key of the user to login\"\\n+}\\n+\\n+variable private_key {}'})])\n",
      "{}\n"
     ]
    }
   ],
   "source": [
    "from github.Repository import Repository\n",
    "\n",
    "from collections import OrderedDict\n",
    "from datetime import datetime, UTC\n",
    "import os\n",
    "import time\n",
    "\n",
    "CommitID = tuple[str, str, str] # owner, name, sha\n",
    "\n",
    "repos: dict[tuple[str, str], Repository] = {}\n",
    "\n",
    "commit_diffs: OrderedDict[CommitID, dict[str, str]]\n",
    "if os.path.exists('diffs.json'):\n",
    "    with open('diffs.json', 'r') as diffs_file:\n",
    "        commit_diffs = json.load(diffs_file, object_pairs_hook=OrderedDict)\n",
    "else:\n",
    "    commit_diffs = OrderedDict()\n",
    "\n",
    "commit_errors: dict[CommitID] = {}\n",
    "\n",
    "for item in dataset:\n",
    "    _, _, _, owner, name, _, sha = item['url'].split('/')\n",
    "\n",
    "    commit_id = f'{owner}/{name}/{sha}'\n",
    "\n",
    "    try:\n",
    "        repo = repos[f'{owner}/{name}'] if (owner, name) in repos else gh.get_repo(f'{owner}/{name}')\n",
    "\n",
    "        if commit_id not in commit_diffs:\n",
    "            commit = repo.get_commit(sha)\n",
    "\n",
    "            if 'link' in commit.raw_headers:\n",
    "                raise Exception(f'Commit is paginated')\n",
    "\n",
    "            commit_diffs[commit_id] = {file.filename: file.patch for file in commit.files}\n",
    "    except Exception as e:\n",
    "        print(f'Error fetching commit {commit_id}:', e)\n",
    "        commit_errors[commit_id] = str(e)\n",
    "\n",
    "    if gh.rate_limiting[0] <= 1:\n",
    "        now = datetime.now(UTC)\n",
    "        reset = datetime.fromtimestamp(gh.rate_limiting_resettime, UTC)\n",
    "\n",
    "        time.sleep(float((reset - now).seconds))\n",
    "\n",
    "    break\n",
    "\n",
    "with open('diffs.json', 'w') as diffs_file:\n",
    "    json.dump(commit_diffs, diffs_file, indent=2)\n",
    "\n",
    "with open('errors.json', 'w') as errors_file:\n",
    "    json.dump(commit_errors, errors_file, indent=2)\n",
    "\n",
    "print(repos)\n",
    "print(commit_diffs)\n",
    "print(commit_errors)"
   ]
  }
 ],
 "metadata": {
  "kernelspec": {
   "display_name": "Python 3",
   "language": "python",
   "name": "python3"
  },
  "language_info": {
   "codemirror_mode": {
    "name": "ipython",
    "version": 3
   },
   "file_extension": ".py",
   "mimetype": "text/x-python",
   "name": "python",
   "nbconvert_exporter": "python",
   "pygments_lexer": "ipython3",
   "version": "3.11.8"
  }
 },
 "nbformat": 4,
 "nbformat_minor": 2
}
